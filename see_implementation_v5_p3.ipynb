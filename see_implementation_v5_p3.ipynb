{
  "nbformat": 4,
  "nbformat_minor": 0,
  "metadata": {
    "colab": {
      "provenance": [],
      "gpuType": "T4",
      "mount_file_id": "1ipPirztNiVMHDvAwghe5wEYvWsU5M1V6",
      "authorship_tag": "ABX9TyNOucVGnkDWIYX8OSVxoBDC",
      "include_colab_link": true
    },
    "kernelspec": {
      "name": "python3",
      "display_name": "Python 3"
    },
    "language_info": {
      "name": "python"
    },
    "accelerator": "GPU"
  },
  "cells": [
    {
      "cell_type": "markdown",
      "metadata": {
        "id": "view-in-github",
        "colab_type": "text"
      },
      "source": [
        "<a href=\"https://colab.research.google.com/github/thegayankalinga/Software-Effort-Estimation-Model/blob/main/see_implementation_v5_p3.ipynb\" target=\"_parent\"><img src=\"https://colab.research.google.com/assets/colab-badge.svg\" alt=\"Open In Colab\"/></a>"
      ]
    },
    {
      "cell_type": "markdown",
      "source": [
        "# Phase 3: Deep Learning Implementation"
      ],
      "metadata": {
        "id": "lWdY-wjuTPqT"
      }
    },
    {
      "cell_type": "markdown",
      "source": [
        "### Setup & Load the Data"
      ],
      "metadata": {
        "id": "IT0VAtUhTnjM"
      }
    },
    {
      "cell_type": "code",
      "execution_count": null,
      "metadata": {
        "colab": {
          "base_uri": "https://localhost:8080/"
        },
        "id": "azf--roDTMhn",
        "outputId": "04a2cc8c-c262-4022-c8b9-c0e69cef0fed"
      },
      "outputs": [
        {
          "output_type": "stream",
          "name": "stdout",
          "text": [
            "Drive already mounted at /content/drive; to attempt to forcibly remount, call drive.mount(\"/content/drive\", force_remount=True).\n"
          ]
        }
      ],
      "source": [
        "# Install required libraries if not installed\n",
        "!pip install pandas numpy tensorflow keras matplotlib seaborn scikit-learn --quiet\n",
        "\n",
        "# Import necessary libraries\n",
        "import pandas as pd\n",
        "import numpy as np\n",
        "import tensorflow as tf\n",
        "from tensorflow import keras\n",
        "from tensorflow.keras.models import Sequential\n",
        "from tensorflow.keras.layers import Dense, Dropout, LSTM, GRU\n",
        "from tensorflow.keras.callbacks import EarlyStopping, ReduceLROnPlateau\n",
        "import os\n",
        "import matplotlib.pyplot as plt\n",
        "import seaborn as sns\n",
        "from sklearn.metrics import mean_squared_error, r2_score\n",
        "\n",
        "\n",
        "# Define paths\n",
        "DATA_PATH = \"/content/drive/MyDrive/Projects/msc_project/results_data/\"\n",
        "MODELS_PATH = \"/content/drive/MyDrive/Projects/msc_project/models/\"\n",
        "PERFORMANCE_DATA = \"/content/drive/MyDrive/Projects/msc_project/performance_data/\"\n",
        "\n",
        "# Ensure directories exist\n",
        "# os.makedirs(MODELS_PATH, exist_ok=True)\n",
        "# os.makedirs(PERFORMANCE_DATA, exist_ok=True)\n",
        "\n",
        "# Mount Google Drive\n",
        "# from google.colab import drive\n",
        "# drive.mount('/content/drive', force_remount=True)\n",
        "\n",
        "# Ensure Google Drive is mounted\n",
        "from google.colab import drive\n",
        "drive.mount('/content/drive')"
      ]
    },
    {
      "cell_type": "markdown",
      "source": [],
      "metadata": {
        "id": "nYcTB1c7VWeZ"
      }
    },
    {
      "cell_type": "code",
      "source": [
        "print(tf.__version__)"
      ],
      "metadata": {
        "colab": {
          "base_uri": "https://localhost:8080/"
        },
        "id": "Gr49Ie09bOEm",
        "outputId": "f1a6c00d-8cf3-45b4-bb8d-7ef3ea091522"
      },
      "execution_count": null,
      "outputs": [
        {
          "output_type": "stream",
          "name": "stdout",
          "text": [
            "2.17.1\n"
          ]
        }
      ]
    },
    {
      "cell_type": "markdown",
      "source": [
        "#### Load the Preprocessed Data"
      ],
      "metadata": {
        "id": "gBGk5FCeVwmd"
      }
    },
    {
      "cell_type": "code",
      "source": [
        "# Load preprocessed data\n",
        "X_train = pd.read_csv(os.path.join(DATA_PATH, \"X_train.csv\"))\n",
        "X_val = pd.read_csv(os.path.join(DATA_PATH, \"X_val.csv\"))\n",
        "X_test = pd.read_csv(os.path.join(DATA_PATH, \"X_test.csv\"))\n",
        "y_train = pd.read_csv(os.path.join(DATA_PATH, \"y_train.csv\"))\n",
        "y_val = pd.read_csv(os.path.join(DATA_PATH, \"y_val.csv\"))\n",
        "y_test = pd.read_csv(os.path.join(DATA_PATH, \"y_test.csv\"))\n",
        "\n",
        "# Convert data to NumPy arrays for TensorFlow\n",
        "X_train, X_val, X_test = X_train.to_numpy(), X_val.to_numpy(), X_test.to_numpy()\n",
        "y_train, y_val, y_test = y_train.to_numpy(), y_val.to_numpy(), y_test.to_numpy()\n",
        "\n",
        "print(f\"X_train Shape: {X_train.shape}, y_train Shape: {y_train.shape}\")\n",
        "print(f\"X_val Shape: {X_val.shape}, y_val Shape: {y_val.shape}\")\n",
        "print(f\"X_test Shape: {X_test.shape}, y_test Shape: {y_test.shape}\")"
      ],
      "metadata": {
        "colab": {
          "base_uri": "https://localhost:8080/"
        },
        "id": "7A_uAvpkVU45",
        "outputId": "64129787-4949-4180-ffd7-3861e1635f94"
      },
      "execution_count": null,
      "outputs": [
        {
          "output_type": "stream",
          "name": "stdout",
          "text": [
            "X_train Shape: (35000, 41), y_train Shape: (35000, 4)\n",
            "X_val Shape: (7500, 41), y_val Shape: (7500, 4)\n",
            "X_test Shape: (7500, 41), y_test Shape: (7500, 4)\n"
          ]
        }
      ]
    },
    {
      "cell_type": "markdown",
      "source": [
        "### Define Model Architecture"
      ],
      "metadata": {
        "id": "NzSJWyM5TtFM"
      }
    },
    {
      "cell_type": "markdown",
      "source": [
        "#### Define Multi-Layer Perceptron"
      ],
      "metadata": {
        "id": "pNLH4NLrTwGh"
      }
    },
    {
      "cell_type": "code",
      "source": [
        "def build_mlp_model(input_shape, output_shape):\n",
        "    model = Sequential([\n",
        "        Dense(128, activation='relu', input_shape=(input_shape,)),\n",
        "        Dropout(0.2),\n",
        "        Dense(64, activation='relu'),\n",
        "        Dense(output_shape, activation='linear')  # Linear activation for regression\n",
        "    ])\n",
        "\n",
        "    model.compile(optimizer='adam', loss='mse', metrics=['mae'])\n",
        "    return model\n",
        "\n",
        "# Initialize MLP model\n",
        "mlp_model = build_mlp_model(X_train.shape[1], y_train.shape[1])\n",
        "\n",
        "# Summary of the model\n",
        "mlp_model.summary()"
      ],
      "metadata": {
        "colab": {
          "base_uri": "https://localhost:8080/",
          "height": 311
        },
        "id": "hA4w3EYtZDgd",
        "outputId": "fab088ce-166b-4452-fee4-e3124c8baf29"
      },
      "execution_count": null,
      "outputs": [
        {
          "output_type": "stream",
          "name": "stderr",
          "text": [
            "/usr/local/lib/python3.10/dist-packages/keras/src/layers/core/dense.py:87: UserWarning: Do not pass an `input_shape`/`input_dim` argument to a layer. When using Sequential models, prefer using an `Input(shape)` object as the first layer in the model instead.\n",
            "  super().__init__(activity_regularizer=activity_regularizer, **kwargs)\n"
          ]
        },
        {
          "output_type": "display_data",
          "data": {
            "text/plain": [
              "\u001b[1mModel: \"sequential\"\u001b[0m\n"
            ],
            "text/html": [
              "<pre style=\"white-space:pre;overflow-x:auto;line-height:normal;font-family:Menlo,'DejaVu Sans Mono',consolas,'Courier New',monospace\"><span style=\"font-weight: bold\">Model: \"sequential\"</span>\n",
              "</pre>\n"
            ]
          },
          "metadata": {}
        },
        {
          "output_type": "display_data",
          "data": {
            "text/plain": [
              "┏━━━━━━━━━━━━━━━━━━━━━━━━━━━━━━━━━━━━━━┳━━━━━━━━━━━━━━━━━━━━━━━━━━━━━┳━━━━━━━━━━━━━━━━━┓\n",
              "┃\u001b[1m \u001b[0m\u001b[1mLayer (type)                        \u001b[0m\u001b[1m \u001b[0m┃\u001b[1m \u001b[0m\u001b[1mOutput Shape               \u001b[0m\u001b[1m \u001b[0m┃\u001b[1m \u001b[0m\u001b[1m        Param #\u001b[0m\u001b[1m \u001b[0m┃\n",
              "┡━━━━━━━━━━━━━━━━━━━━━━━━━━━━━━━━━━━━━━╇━━━━━━━━━━━━━━━━━━━━━━━━━━━━━╇━━━━━━━━━━━━━━━━━┩\n",
              "│ dense (\u001b[38;5;33mDense\u001b[0m)                        │ (\u001b[38;5;45mNone\u001b[0m, \u001b[38;5;34m128\u001b[0m)                 │           \u001b[38;5;34m5,376\u001b[0m │\n",
              "├──────────────────────────────────────┼─────────────────────────────┼─────────────────┤\n",
              "│ dropout (\u001b[38;5;33mDropout\u001b[0m)                    │ (\u001b[38;5;45mNone\u001b[0m, \u001b[38;5;34m128\u001b[0m)                 │               \u001b[38;5;34m0\u001b[0m │\n",
              "├──────────────────────────────────────┼─────────────────────────────┼─────────────────┤\n",
              "│ dense_1 (\u001b[38;5;33mDense\u001b[0m)                      │ (\u001b[38;5;45mNone\u001b[0m, \u001b[38;5;34m64\u001b[0m)                  │           \u001b[38;5;34m8,256\u001b[0m │\n",
              "├──────────────────────────────────────┼─────────────────────────────┼─────────────────┤\n",
              "│ dense_2 (\u001b[38;5;33mDense\u001b[0m)                      │ (\u001b[38;5;45mNone\u001b[0m, \u001b[38;5;34m4\u001b[0m)                   │             \u001b[38;5;34m260\u001b[0m │\n",
              "└──────────────────────────────────────┴─────────────────────────────┴─────────────────┘\n"
            ],
            "text/html": [
              "<pre style=\"white-space:pre;overflow-x:auto;line-height:normal;font-family:Menlo,'DejaVu Sans Mono',consolas,'Courier New',monospace\">┏━━━━━━━━━━━━━━━━━━━━━━━━━━━━━━━━━━━━━━┳━━━━━━━━━━━━━━━━━━━━━━━━━━━━━┳━━━━━━━━━━━━━━━━━┓\n",
              "┃<span style=\"font-weight: bold\"> Layer (type)                         </span>┃<span style=\"font-weight: bold\"> Output Shape                </span>┃<span style=\"font-weight: bold\">         Param # </span>┃\n",
              "┡━━━━━━━━━━━━━━━━━━━━━━━━━━━━━━━━━━━━━━╇━━━━━━━━━━━━━━━━━━━━━━━━━━━━━╇━━━━━━━━━━━━━━━━━┩\n",
              "│ dense (<span style=\"color: #0087ff; text-decoration-color: #0087ff\">Dense</span>)                        │ (<span style=\"color: #00d7ff; text-decoration-color: #00d7ff\">None</span>, <span style=\"color: #00af00; text-decoration-color: #00af00\">128</span>)                 │           <span style=\"color: #00af00; text-decoration-color: #00af00\">5,376</span> │\n",
              "├──────────────────────────────────────┼─────────────────────────────┼─────────────────┤\n",
              "│ dropout (<span style=\"color: #0087ff; text-decoration-color: #0087ff\">Dropout</span>)                    │ (<span style=\"color: #00d7ff; text-decoration-color: #00d7ff\">None</span>, <span style=\"color: #00af00; text-decoration-color: #00af00\">128</span>)                 │               <span style=\"color: #00af00; text-decoration-color: #00af00\">0</span> │\n",
              "├──────────────────────────────────────┼─────────────────────────────┼─────────────────┤\n",
              "│ dense_1 (<span style=\"color: #0087ff; text-decoration-color: #0087ff\">Dense</span>)                      │ (<span style=\"color: #00d7ff; text-decoration-color: #00d7ff\">None</span>, <span style=\"color: #00af00; text-decoration-color: #00af00\">64</span>)                  │           <span style=\"color: #00af00; text-decoration-color: #00af00\">8,256</span> │\n",
              "├──────────────────────────────────────┼─────────────────────────────┼─────────────────┤\n",
              "│ dense_2 (<span style=\"color: #0087ff; text-decoration-color: #0087ff\">Dense</span>)                      │ (<span style=\"color: #00d7ff; text-decoration-color: #00d7ff\">None</span>, <span style=\"color: #00af00; text-decoration-color: #00af00\">4</span>)                   │             <span style=\"color: #00af00; text-decoration-color: #00af00\">260</span> │\n",
              "└──────────────────────────────────────┴─────────────────────────────┴─────────────────┘\n",
              "</pre>\n"
            ]
          },
          "metadata": {}
        },
        {
          "output_type": "display_data",
          "data": {
            "text/plain": [
              "\u001b[1m Total params: \u001b[0m\u001b[38;5;34m13,892\u001b[0m (54.27 KB)\n"
            ],
            "text/html": [
              "<pre style=\"white-space:pre;overflow-x:auto;line-height:normal;font-family:Menlo,'DejaVu Sans Mono',consolas,'Courier New',monospace\"><span style=\"font-weight: bold\"> Total params: </span><span style=\"color: #00af00; text-decoration-color: #00af00\">13,892</span> (54.27 KB)\n",
              "</pre>\n"
            ]
          },
          "metadata": {}
        },
        {
          "output_type": "display_data",
          "data": {
            "text/plain": [
              "\u001b[1m Trainable params: \u001b[0m\u001b[38;5;34m13,892\u001b[0m (54.27 KB)\n"
            ],
            "text/html": [
              "<pre style=\"white-space:pre;overflow-x:auto;line-height:normal;font-family:Menlo,'DejaVu Sans Mono',consolas,'Courier New',monospace\"><span style=\"font-weight: bold\"> Trainable params: </span><span style=\"color: #00af00; text-decoration-color: #00af00\">13,892</span> (54.27 KB)\n",
              "</pre>\n"
            ]
          },
          "metadata": {}
        },
        {
          "output_type": "display_data",
          "data": {
            "text/plain": [
              "\u001b[1m Non-trainable params: \u001b[0m\u001b[38;5;34m0\u001b[0m (0.00 B)\n"
            ],
            "text/html": [
              "<pre style=\"white-space:pre;overflow-x:auto;line-height:normal;font-family:Menlo,'DejaVu Sans Mono',consolas,'Courier New',monospace\"><span style=\"font-weight: bold\"> Non-trainable params: </span><span style=\"color: #00af00; text-decoration-color: #00af00\">0</span> (0.00 B)\n",
              "</pre>\n"
            ]
          },
          "metadata": {}
        }
      ]
    },
    {
      "cell_type": "markdown",
      "source": [
        "#### LSTM Model"
      ],
      "metadata": {
        "id": "faLIIQb4ZJ5o"
      }
    },
    {
      "cell_type": "code",
      "source": [
        "def build_lstm_model(input_shape, output_shape):\n",
        "    model = Sequential([\n",
        "        LSTM(128, activation='relu', return_sequences=True, input_shape=(1, input_shape)),\n",
        "        LSTM(64, activation='relu'),\n",
        "        Dense(output_shape, activation='linear')\n",
        "    ])\n",
        "\n",
        "    model.compile(optimizer='adam', loss='mse', metrics=['mae'])\n",
        "    return model\n",
        "\n",
        "# Reshape data for LSTM\n",
        "X_train_lstm = X_train.reshape((X_train.shape[0], 1, X_train.shape[1]))\n",
        "X_val_lstm = X_val.reshape((X_val.shape[0], 1, X_val.shape[1]))\n",
        "X_test_lstm = X_test.reshape((X_test.shape[0], 1, X_test.shape[1]))\n",
        "\n",
        "# Initialize LSTM model\n",
        "lstm_model = build_lstm_model(X_train.shape[1], y_train.shape[1])\n",
        "\n",
        "# Summary of LSTM model\n",
        "lstm_model.summary()"
      ],
      "metadata": {
        "colab": {
          "base_uri": "https://localhost:8080/",
          "height": 279
        },
        "id": "wQGXvH82ZM4Z",
        "outputId": "40557a45-315b-4242-86ac-f65dd09e7ea2"
      },
      "execution_count": null,
      "outputs": [
        {
          "output_type": "stream",
          "name": "stderr",
          "text": [
            "/usr/local/lib/python3.10/dist-packages/keras/src/layers/rnn/rnn.py:204: UserWarning: Do not pass an `input_shape`/`input_dim` argument to a layer. When using Sequential models, prefer using an `Input(shape)` object as the first layer in the model instead.\n",
            "  super().__init__(**kwargs)\n"
          ]
        },
        {
          "output_type": "display_data",
          "data": {
            "text/plain": [
              "\u001b[1mModel: \"sequential_1\"\u001b[0m\n"
            ],
            "text/html": [
              "<pre style=\"white-space:pre;overflow-x:auto;line-height:normal;font-family:Menlo,'DejaVu Sans Mono',consolas,'Courier New',monospace\"><span style=\"font-weight: bold\">Model: \"sequential_1\"</span>\n",
              "</pre>\n"
            ]
          },
          "metadata": {}
        },
        {
          "output_type": "display_data",
          "data": {
            "text/plain": [
              "┏━━━━━━━━━━━━━━━━━━━━━━━━━━━━━━━━━━━━━━┳━━━━━━━━━━━━━━━━━━━━━━━━━━━━━┳━━━━━━━━━━━━━━━━━┓\n",
              "┃\u001b[1m \u001b[0m\u001b[1mLayer (type)                        \u001b[0m\u001b[1m \u001b[0m┃\u001b[1m \u001b[0m\u001b[1mOutput Shape               \u001b[0m\u001b[1m \u001b[0m┃\u001b[1m \u001b[0m\u001b[1m        Param #\u001b[0m\u001b[1m \u001b[0m┃\n",
              "┡━━━━━━━━━━━━━━━━━━━━━━━━━━━━━━━━━━━━━━╇━━━━━━━━━━━━━━━━━━━━━━━━━━━━━╇━━━━━━━━━━━━━━━━━┩\n",
              "│ lstm (\u001b[38;5;33mLSTM\u001b[0m)                          │ (\u001b[38;5;45mNone\u001b[0m, \u001b[38;5;34m1\u001b[0m, \u001b[38;5;34m128\u001b[0m)              │          \u001b[38;5;34m87,040\u001b[0m │\n",
              "├──────────────────────────────────────┼─────────────────────────────┼─────────────────┤\n",
              "│ lstm_1 (\u001b[38;5;33mLSTM\u001b[0m)                        │ (\u001b[38;5;45mNone\u001b[0m, \u001b[38;5;34m64\u001b[0m)                  │          \u001b[38;5;34m49,408\u001b[0m │\n",
              "├──────────────────────────────────────┼─────────────────────────────┼─────────────────┤\n",
              "│ dense_3 (\u001b[38;5;33mDense\u001b[0m)                      │ (\u001b[38;5;45mNone\u001b[0m, \u001b[38;5;34m4\u001b[0m)                   │             \u001b[38;5;34m260\u001b[0m │\n",
              "└──────────────────────────────────────┴─────────────────────────────┴─────────────────┘\n"
            ],
            "text/html": [
              "<pre style=\"white-space:pre;overflow-x:auto;line-height:normal;font-family:Menlo,'DejaVu Sans Mono',consolas,'Courier New',monospace\">┏━━━━━━━━━━━━━━━━━━━━━━━━━━━━━━━━━━━━━━┳━━━━━━━━━━━━━━━━━━━━━━━━━━━━━┳━━━━━━━━━━━━━━━━━┓\n",
              "┃<span style=\"font-weight: bold\"> Layer (type)                         </span>┃<span style=\"font-weight: bold\"> Output Shape                </span>┃<span style=\"font-weight: bold\">         Param # </span>┃\n",
              "┡━━━━━━━━━━━━━━━━━━━━━━━━━━━━━━━━━━━━━━╇━━━━━━━━━━━━━━━━━━━━━━━━━━━━━╇━━━━━━━━━━━━━━━━━┩\n",
              "│ lstm (<span style=\"color: #0087ff; text-decoration-color: #0087ff\">LSTM</span>)                          │ (<span style=\"color: #00d7ff; text-decoration-color: #00d7ff\">None</span>, <span style=\"color: #00af00; text-decoration-color: #00af00\">1</span>, <span style=\"color: #00af00; text-decoration-color: #00af00\">128</span>)              │          <span style=\"color: #00af00; text-decoration-color: #00af00\">87,040</span> │\n",
              "├──────────────────────────────────────┼─────────────────────────────┼─────────────────┤\n",
              "│ lstm_1 (<span style=\"color: #0087ff; text-decoration-color: #0087ff\">LSTM</span>)                        │ (<span style=\"color: #00d7ff; text-decoration-color: #00d7ff\">None</span>, <span style=\"color: #00af00; text-decoration-color: #00af00\">64</span>)                  │          <span style=\"color: #00af00; text-decoration-color: #00af00\">49,408</span> │\n",
              "├──────────────────────────────────────┼─────────────────────────────┼─────────────────┤\n",
              "│ dense_3 (<span style=\"color: #0087ff; text-decoration-color: #0087ff\">Dense</span>)                      │ (<span style=\"color: #00d7ff; text-decoration-color: #00d7ff\">None</span>, <span style=\"color: #00af00; text-decoration-color: #00af00\">4</span>)                   │             <span style=\"color: #00af00; text-decoration-color: #00af00\">260</span> │\n",
              "└──────────────────────────────────────┴─────────────────────────────┴─────────────────┘\n",
              "</pre>\n"
            ]
          },
          "metadata": {}
        },
        {
          "output_type": "display_data",
          "data": {
            "text/plain": [
              "\u001b[1m Total params: \u001b[0m\u001b[38;5;34m136,708\u001b[0m (534.02 KB)\n"
            ],
            "text/html": [
              "<pre style=\"white-space:pre;overflow-x:auto;line-height:normal;font-family:Menlo,'DejaVu Sans Mono',consolas,'Courier New',monospace\"><span style=\"font-weight: bold\"> Total params: </span><span style=\"color: #00af00; text-decoration-color: #00af00\">136,708</span> (534.02 KB)\n",
              "</pre>\n"
            ]
          },
          "metadata": {}
        },
        {
          "output_type": "display_data",
          "data": {
            "text/plain": [
              "\u001b[1m Trainable params: \u001b[0m\u001b[38;5;34m136,708\u001b[0m (534.02 KB)\n"
            ],
            "text/html": [
              "<pre style=\"white-space:pre;overflow-x:auto;line-height:normal;font-family:Menlo,'DejaVu Sans Mono',consolas,'Courier New',monospace\"><span style=\"font-weight: bold\"> Trainable params: </span><span style=\"color: #00af00; text-decoration-color: #00af00\">136,708</span> (534.02 KB)\n",
              "</pre>\n"
            ]
          },
          "metadata": {}
        },
        {
          "output_type": "display_data",
          "data": {
            "text/plain": [
              "\u001b[1m Non-trainable params: \u001b[0m\u001b[38;5;34m0\u001b[0m (0.00 B)\n"
            ],
            "text/html": [
              "<pre style=\"white-space:pre;overflow-x:auto;line-height:normal;font-family:Menlo,'DejaVu Sans Mono',consolas,'Courier New',monospace\"><span style=\"font-weight: bold\"> Non-trainable params: </span><span style=\"color: #00af00; text-decoration-color: #00af00\">0</span> (0.00 B)\n",
              "</pre>\n"
            ]
          },
          "metadata": {}
        }
      ]
    },
    {
      "cell_type": "markdown",
      "source": [
        "### Train Models"
      ],
      "metadata": {
        "id": "KG8G5xIgZj1l"
      }
    },
    {
      "cell_type": "code",
      "source": [
        "#use early stopping & learning rate scheduling to prevent overfitting\n",
        "\n",
        "# Define callbacks\n",
        "early_stopping = EarlyStopping(monitor='val_loss', patience=10, restore_best_weights=True)\n",
        "reduce_lr = ReduceLROnPlateau(monitor='val_loss', factor=0.5, patience=5, min_lr=0.0001)\n",
        "\n",
        "# Train MLP Model\n",
        "history_mlp = mlp_model.fit(X_train, y_train, epochs=100, batch_size=32,\n",
        "                            validation_data=(X_val, y_val), callbacks=[early_stopping, reduce_lr])\n",
        "\n",
        "# Train LSTM Model\n",
        "history_lstm = lstm_model.fit(X_train_lstm, y_train, epochs=100, batch_size=32,\n",
        "                              validation_data=(X_val_lstm, y_val), callbacks=[early_stopping, reduce_lr])"
      ],
      "metadata": {
        "colab": {
          "base_uri": "https://localhost:8080/"
        },
        "id": "_8qF-SFaZmzQ",
        "outputId": "78812181-1658-4d49-a9da-5b93b107f0ad"
      },
      "execution_count": null,
      "outputs": [
        {
          "output_type": "stream",
          "name": "stdout",
          "text": [
            "Epoch 1/100\n",
            "\u001b[1m1094/1094\u001b[0m \u001b[32m━━━━━━━━━━━━━━━━━━━━\u001b[0m\u001b[37m\u001b[0m \u001b[1m8s\u001b[0m 4ms/step - loss: 0.2581 - mae: 0.3690 - val_loss: 0.0452 - val_mae: 0.1678 - learning_rate: 0.0010\n",
            "Epoch 2/100\n",
            "\u001b[1m1094/1094\u001b[0m \u001b[32m━━━━━━━━━━━━━━━━━━━━\u001b[0m\u001b[37m\u001b[0m \u001b[1m7s\u001b[0m 2ms/step - loss: 0.0648 - mae: 0.2001 - val_loss: 0.0290 - val_mae: 0.1359 - learning_rate: 0.0010\n",
            "Epoch 3/100\n",
            "\u001b[1m1094/1094\u001b[0m \u001b[32m━━━━━━━━━━━━━━━━━━━━\u001b[0m\u001b[37m\u001b[0m \u001b[1m3s\u001b[0m 3ms/step - loss: 0.0459 - mae: 0.1682 - val_loss: 0.0187 - val_mae: 0.1074 - learning_rate: 0.0010\n",
            "Epoch 4/100\n",
            "\u001b[1m1094/1094\u001b[0m \u001b[32m━━━━━━━━━━━━━━━━━━━━\u001b[0m\u001b[37m\u001b[0m \u001b[1m4s\u001b[0m 2ms/step - loss: 0.0342 - mae: 0.1443 - val_loss: 0.0178 - val_mae: 0.1045 - learning_rate: 0.0010\n",
            "Epoch 5/100\n",
            "\u001b[1m1094/1094\u001b[0m \u001b[32m━━━━━━━━━━━━━━━━━━━━\u001b[0m\u001b[37m\u001b[0m \u001b[1m3s\u001b[0m 2ms/step - loss: 0.0279 - mae: 0.1299 - val_loss: 0.0130 - val_mae: 0.0890 - learning_rate: 0.0010\n",
            "Epoch 6/100\n",
            "\u001b[1m1094/1094\u001b[0m \u001b[32m━━━━━━━━━━━━━━━━━━━━\u001b[0m\u001b[37m\u001b[0m \u001b[1m2s\u001b[0m 2ms/step - loss: 0.0239 - mae: 0.1193 - val_loss: 0.0179 - val_mae: 0.1017 - learning_rate: 0.0010\n",
            "Epoch 7/100\n",
            "\u001b[1m1094/1094\u001b[0m \u001b[32m━━━━━━━━━━━━━━━━━━━━\u001b[0m\u001b[37m\u001b[0m \u001b[1m3s\u001b[0m 3ms/step - loss: 0.0195 - mae: 0.1075 - val_loss: 0.0245 - val_mae: 0.1198 - learning_rate: 0.0010\n",
            "Epoch 8/100\n",
            "\u001b[1m1094/1094\u001b[0m \u001b[32m━━━━━━━━━━━━━━━━━━━━\u001b[0m\u001b[37m\u001b[0m \u001b[1m4s\u001b[0m 2ms/step - loss: 0.0166 - mae: 0.0990 - val_loss: 0.0300 - val_mae: 0.1391 - learning_rate: 0.0010\n",
            "Epoch 9/100\n",
            "\u001b[1m1094/1094\u001b[0m \u001b[32m━━━━━━━━━━━━━━━━━━━━\u001b[0m\u001b[37m\u001b[0m \u001b[1m3s\u001b[0m 2ms/step - loss: 0.0146 - mae: 0.0924 - val_loss: 0.0476 - val_mae: 0.1765 - learning_rate: 0.0010\n",
            "Epoch 10/100\n",
            "\u001b[1m1094/1094\u001b[0m \u001b[32m━━━━━━━━━━━━━━━━━━━━\u001b[0m\u001b[37m\u001b[0m \u001b[1m2s\u001b[0m 2ms/step - loss: 0.0130 - mae: 0.0869 - val_loss: 0.0604 - val_mae: 0.1969 - learning_rate: 0.0010\n",
            "Epoch 11/100\n",
            "\u001b[1m1094/1094\u001b[0m \u001b[32m━━━━━━━━━━━━━━━━━━━━\u001b[0m\u001b[37m\u001b[0m \u001b[1m3s\u001b[0m 2ms/step - loss: 0.0102 - mae: 0.0765 - val_loss: 0.0524 - val_mae: 0.1822 - learning_rate: 5.0000e-04\n",
            "Epoch 12/100\n",
            "\u001b[1m1094/1094\u001b[0m \u001b[32m━━━━━━━━━━━━━━━━━━━━\u001b[0m\u001b[37m\u001b[0m \u001b[1m3s\u001b[0m 3ms/step - loss: 0.0094 - mae: 0.0726 - val_loss: 0.0458 - val_mae: 0.1687 - learning_rate: 5.0000e-04\n",
            "Epoch 13/100\n",
            "\u001b[1m1094/1094\u001b[0m \u001b[32m━━━━━━━━━━━━━━━━━━━━\u001b[0m\u001b[37m\u001b[0m \u001b[1m2s\u001b[0m 2ms/step - loss: 0.0090 - mae: 0.0711 - val_loss: 0.0670 - val_mae: 0.2100 - learning_rate: 5.0000e-04\n",
            "Epoch 14/100\n",
            "\u001b[1m1094/1094\u001b[0m \u001b[32m━━━━━━━━━━━━━━━━━━━━\u001b[0m\u001b[37m\u001b[0m \u001b[1m2s\u001b[0m 2ms/step - loss: 0.0083 - mae: 0.0680 - val_loss: 0.0717 - val_mae: 0.2137 - learning_rate: 5.0000e-04\n",
            "Epoch 15/100\n",
            "\u001b[1m1094/1094\u001b[0m \u001b[32m━━━━━━━━━━━━━━━━━━━━\u001b[0m\u001b[37m\u001b[0m \u001b[1m3s\u001b[0m 2ms/step - loss: 0.0081 - mae: 0.0669 - val_loss: 0.0794 - val_mae: 0.2285 - learning_rate: 5.0000e-04\n",
            "Epoch 1/100\n",
            "\u001b[1m1094/1094\u001b[0m \u001b[32m━━━━━━━━━━━━━━━━━━━━\u001b[0m\u001b[37m\u001b[0m \u001b[1m12s\u001b[0m 7ms/step - loss: 0.2295 - mae: 0.3081 - val_loss: 0.0062 - val_mae: 0.0603 - learning_rate: 0.0010\n",
            "Epoch 2/100\n",
            "\u001b[1m1094/1094\u001b[0m \u001b[32m━━━━━━━━━━━━━━━━━━━━\u001b[0m\u001b[37m\u001b[0m \u001b[1m2s\u001b[0m 2ms/step - loss: 0.0050 - mae: 0.0544 - val_loss: 0.0027 - val_mae: 0.0407 - learning_rate: 0.0010\n",
            "Epoch 3/100\n",
            "\u001b[1m1094/1094\u001b[0m \u001b[32m━━━━━━━━━━━━━━━━━━━━\u001b[0m\u001b[37m\u001b[0m \u001b[1m3s\u001b[0m 2ms/step - loss: 0.0025 - mae: 0.0393 - val_loss: 0.0015 - val_mae: 0.0294 - learning_rate: 0.0010\n",
            "Epoch 4/100\n",
            "\u001b[1m1094/1094\u001b[0m \u001b[32m━━━━━━━━━━━━━━━━━━━━\u001b[0m\u001b[37m\u001b[0m \u001b[1m3s\u001b[0m 3ms/step - loss: 0.0018 - mae: 0.0328 - val_loss: 0.0012 - val_mae: 0.0261 - learning_rate: 0.0010\n",
            "Epoch 5/100\n",
            "\u001b[1m1094/1094\u001b[0m \u001b[32m━━━━━━━━━━━━━━━━━━━━\u001b[0m\u001b[37m\u001b[0m \u001b[1m2s\u001b[0m 2ms/step - loss: 0.0013 - mae: 0.0272 - val_loss: 0.0011 - val_mae: 0.0247 - learning_rate: 0.0010\n",
            "Epoch 6/100\n",
            "\u001b[1m1094/1094\u001b[0m \u001b[32m━━━━━━━━━━━━━━━━━━━━\u001b[0m\u001b[37m\u001b[0m \u001b[1m2s\u001b[0m 2ms/step - loss: 9.6565e-04 - mae: 0.0235 - val_loss: 0.0011 - val_mae: 0.0271 - learning_rate: 0.0010\n",
            "Epoch 7/100\n",
            "\u001b[1m1094/1094\u001b[0m \u001b[32m━━━━━━━━━━━━━━━━━━━━\u001b[0m\u001b[37m\u001b[0m \u001b[1m2s\u001b[0m 2ms/step - loss: 8.1391e-04 - mae: 0.0216 - val_loss: 4.7324e-04 - val_mae: 0.0163 - learning_rate: 0.0010\n",
            "Epoch 8/100\n",
            "\u001b[1m1094/1094\u001b[0m \u001b[32m━━━━━━━━━━━━━━━━━━━━\u001b[0m\u001b[37m\u001b[0m \u001b[1m3s\u001b[0m 2ms/step - loss: 5.2120e-04 - mae: 0.0176 - val_loss: 4.1825e-04 - val_mae: 0.0160 - learning_rate: 0.0010\n",
            "Epoch 9/100\n",
            "\u001b[1m1094/1094\u001b[0m \u001b[32m━━━━━━━━━━━━━━━━━━━━\u001b[0m\u001b[37m\u001b[0m \u001b[1m3s\u001b[0m 3ms/step - loss: 3.9861e-04 - mae: 0.0155 - val_loss: 2.5967e-04 - val_mae: 0.0125 - learning_rate: 0.0010\n",
            "Epoch 10/100\n",
            "\u001b[1m1094/1094\u001b[0m \u001b[32m━━━━━━━━━━━━━━━━━━━━\u001b[0m\u001b[37m\u001b[0m \u001b[1m4s\u001b[0m 2ms/step - loss: 5.1134e-04 - mae: 0.0173 - val_loss: 3.2582e-04 - val_mae: 0.0141 - learning_rate: 0.0010\n",
            "Epoch 11/100\n",
            "\u001b[1m1094/1094\u001b[0m \u001b[32m━━━━━━━━━━━━━━━━━━━━\u001b[0m\u001b[37m\u001b[0m \u001b[1m3s\u001b[0m 2ms/step - loss: 2.9425e-04 - mae: 0.0133 - val_loss: 4.8034e-04 - val_mae: 0.0175 - learning_rate: 0.0010\n",
            "Epoch 12/100\n",
            "\u001b[1m1094/1094\u001b[0m \u001b[32m━━━━━━━━━━━━━━━━━━━━\u001b[0m\u001b[37m\u001b[0m \u001b[1m2s\u001b[0m 2ms/step - loss: 4.3149e-04 - mae: 0.0155 - val_loss: 2.0512e-04 - val_mae: 0.0111 - learning_rate: 0.0010\n",
            "Epoch 13/100\n",
            "\u001b[1m1094/1094\u001b[0m \u001b[32m━━━━━━━━━━━━━━━━━━━━\u001b[0m\u001b[37m\u001b[0m \u001b[1m3s\u001b[0m 3ms/step - loss: 2.9502e-04 - mae: 0.0132 - val_loss: 2.5509e-04 - val_mae: 0.0123 - learning_rate: 0.0010\n",
            "Epoch 14/100\n",
            "\u001b[1m1094/1094\u001b[0m \u001b[32m━━━━━━━━━━━━━━━━━━━━\u001b[0m\u001b[37m\u001b[0m \u001b[1m4s\u001b[0m 2ms/step - loss: 3.0472e-04 - mae: 0.0134 - val_loss: 1.0043e-04 - val_mae: 0.0075 - learning_rate: 0.0010\n",
            "Epoch 15/100\n",
            "\u001b[1m1094/1094\u001b[0m \u001b[32m━━━━━━━━━━━━━━━━━━━━\u001b[0m\u001b[37m\u001b[0m \u001b[1m3s\u001b[0m 2ms/step - loss: 2.2518e-04 - mae: 0.0113 - val_loss: 2.2294e-04 - val_mae: 0.0116 - learning_rate: 0.0010\n",
            "Epoch 16/100\n",
            "\u001b[1m1094/1094\u001b[0m \u001b[32m━━━━━━━━━━━━━━━━━━━━\u001b[0m\u001b[37m\u001b[0m \u001b[1m2s\u001b[0m 2ms/step - loss: 3.4249e-04 - mae: 0.0144 - val_loss: 1.7533e-04 - val_mae: 0.0101 - learning_rate: 0.0010\n",
            "Epoch 17/100\n",
            "\u001b[1m1094/1094\u001b[0m \u001b[32m━━━━━━━━━━━━━━━━━━━━\u001b[0m\u001b[37m\u001b[0m \u001b[1m3s\u001b[0m 2ms/step - loss: 2.0961e-04 - mae: 0.0112 - val_loss: 1.5919e-04 - val_mae: 0.0098 - learning_rate: 0.0010\n",
            "Epoch 18/100\n",
            "\u001b[1m1094/1094\u001b[0m \u001b[32m━━━━━━━━━━━━━━━━━━━━\u001b[0m\u001b[37m\u001b[0m \u001b[1m5s\u001b[0m 2ms/step - loss: 3.4329e-04 - mae: 0.0140 - val_loss: 4.1654e-04 - val_mae: 0.0164 - learning_rate: 0.0010\n",
            "Epoch 19/100\n",
            "\u001b[1m1094/1094\u001b[0m \u001b[32m━━━━━━━━━━━━━━━━━━━━\u001b[0m\u001b[37m\u001b[0m \u001b[1m2s\u001b[0m 2ms/step - loss: 2.4856e-04 - mae: 0.0122 - val_loss: 2.3841e-04 - val_mae: 0.0118 - learning_rate: 0.0010\n",
            "Epoch 20/100\n",
            "\u001b[1m1094/1094\u001b[0m \u001b[32m━━━━━━━━━━━━━━━━━━━━\u001b[0m\u001b[37m\u001b[0m \u001b[1m3s\u001b[0m 2ms/step - loss: 5.6755e-05 - mae: 0.0056 - val_loss: 1.8459e-04 - val_mae: 0.0109 - learning_rate: 5.0000e-04\n",
            "Epoch 21/100\n",
            "\u001b[1m1094/1094\u001b[0m \u001b[32m━━━━━━━━━━━━━━━━━━━━\u001b[0m\u001b[37m\u001b[0m \u001b[1m3s\u001b[0m 2ms/step - loss: 8.9456e-05 - mae: 0.0073 - val_loss: 5.9788e-05 - val_mae: 0.0059 - learning_rate: 5.0000e-04\n",
            "Epoch 22/100\n",
            "\u001b[1m1094/1094\u001b[0m \u001b[32m━━━━━━━━━━━━━━━━━━━━\u001b[0m\u001b[37m\u001b[0m \u001b[1m3s\u001b[0m 3ms/step - loss: 6.3929e-05 - mae: 0.0062 - val_loss: 6.1287e-05 - val_mae: 0.0061 - learning_rate: 5.0000e-04\n",
            "Epoch 23/100\n",
            "\u001b[1m1094/1094\u001b[0m \u001b[32m━━━━━━━━━━━━━━━━━━━━\u001b[0m\u001b[37m\u001b[0m \u001b[1m2s\u001b[0m 2ms/step - loss: 6.2706e-05 - mae: 0.0061 - val_loss: 9.6427e-05 - val_mae: 0.0080 - learning_rate: 5.0000e-04\n",
            "Epoch 24/100\n",
            "\u001b[1m1094/1094\u001b[0m \u001b[32m━━━━━━━━━━━━━━━━━━━━\u001b[0m\u001b[37m\u001b[0m \u001b[1m3s\u001b[0m 2ms/step - loss: 7.1845e-05 - mae: 0.0065 - val_loss: 6.6357e-05 - val_mae: 0.0063 - learning_rate: 5.0000e-04\n",
            "Epoch 25/100\n",
            "\u001b[1m1094/1094\u001b[0m \u001b[32m━━━━━━━━━━━━━━━━━━━━\u001b[0m\u001b[37m\u001b[0m \u001b[1m2s\u001b[0m 2ms/step - loss: 2.6064e-05 - mae: 0.0039 - val_loss: 2.6149e-05 - val_mae: 0.0038 - learning_rate: 2.5000e-04\n",
            "Epoch 26/100\n",
            "\u001b[1m1094/1094\u001b[0m \u001b[32m━━━━━━━━━━━━━━━━━━━━\u001b[0m\u001b[37m\u001b[0m \u001b[1m3s\u001b[0m 2ms/step - loss: 3.0057e-05 - mae: 0.0043 - val_loss: 5.6739e-05 - val_mae: 0.0059 - learning_rate: 2.5000e-04\n",
            "Epoch 27/100\n",
            "\u001b[1m1094/1094\u001b[0m \u001b[32m━━━━━━━━━━━━━━━━━━━━\u001b[0m\u001b[37m\u001b[0m \u001b[1m5s\u001b[0m 2ms/step - loss: 3.5666e-05 - mae: 0.0046 - val_loss: 3.6136e-05 - val_mae: 0.0046 - learning_rate: 2.5000e-04\n",
            "Epoch 28/100\n",
            "\u001b[1m1094/1094\u001b[0m \u001b[32m━━━━━━━━━━━━━━━━━━━━\u001b[0m\u001b[37m\u001b[0m \u001b[1m3s\u001b[0m 2ms/step - loss: 3.2181e-05 - mae: 0.0044 - val_loss: 2.6771e-05 - val_mae: 0.0038 - learning_rate: 2.5000e-04\n",
            "Epoch 29/100\n",
            "\u001b[1m1094/1094\u001b[0m \u001b[32m━━━━━━━━━━━━━━━━━━━━\u001b[0m\u001b[37m\u001b[0m \u001b[1m3s\u001b[0m 2ms/step - loss: 3.1110e-05 - mae: 0.0043 - val_loss: 3.1485e-05 - val_mae: 0.0043 - learning_rate: 2.5000e-04\n",
            "Epoch 30/100\n",
            "\u001b[1m1094/1094\u001b[0m \u001b[32m━━━━━━━━━━━━━━━━━━━━\u001b[0m\u001b[37m\u001b[0m \u001b[1m2s\u001b[0m 2ms/step - loss: 1.6277e-05 - mae: 0.0031 - val_loss: 1.9691e-05 - val_mae: 0.0033 - learning_rate: 1.2500e-04\n",
            "Epoch 31/100\n",
            "\u001b[1m1094/1094\u001b[0m \u001b[32m━━━━━━━━━━━━━━━━━━━━\u001b[0m\u001b[37m\u001b[0m \u001b[1m3s\u001b[0m 3ms/step - loss: 1.6002e-05 - mae: 0.0031 - val_loss: 1.7566e-05 - val_mae: 0.0030 - learning_rate: 1.2500e-04\n",
            "Epoch 32/100\n",
            "\u001b[1m1094/1094\u001b[0m \u001b[32m━━━━━━━━━━━━━━━━━━━━\u001b[0m\u001b[37m\u001b[0m \u001b[1m4s\u001b[0m 2ms/step - loss: 1.9470e-05 - mae: 0.0034 - val_loss: 1.5696e-05 - val_mae: 0.0029 - learning_rate: 1.2500e-04\n",
            "Epoch 33/100\n",
            "\u001b[1m1094/1094\u001b[0m \u001b[32m━━━━━━━━━━━━━━━━━━━━\u001b[0m\u001b[37m\u001b[0m \u001b[1m3s\u001b[0m 2ms/step - loss: 1.6241e-05 - mae: 0.0031 - val_loss: 3.2718e-05 - val_mae: 0.0046 - learning_rate: 1.2500e-04\n",
            "Epoch 34/100\n",
            "\u001b[1m1094/1094\u001b[0m \u001b[32m━━━━━━━━━━━━━━━━━━━━\u001b[0m\u001b[37m\u001b[0m \u001b[1m3s\u001b[0m 2ms/step - loss: 1.6335e-05 - mae: 0.0031 - val_loss: 2.1067e-05 - val_mae: 0.0035 - learning_rate: 1.2500e-04\n",
            "Epoch 35/100\n",
            "\u001b[1m1094/1094\u001b[0m \u001b[32m━━━━━━━━━━━━━━━━━━━━\u001b[0m\u001b[37m\u001b[0m \u001b[1m3s\u001b[0m 3ms/step - loss: 1.5007e-05 - mae: 0.0030 - val_loss: 1.9494e-05 - val_mae: 0.0034 - learning_rate: 1.0000e-04\n",
            "Epoch 36/100\n",
            "\u001b[1m1094/1094\u001b[0m \u001b[32m━━━━━━━━━━━━━━━━━━━━\u001b[0m\u001b[37m\u001b[0m \u001b[1m4s\u001b[0m 2ms/step - loss: 1.3273e-05 - mae: 0.0028 - val_loss: 1.3882e-05 - val_mae: 0.0027 - learning_rate: 1.0000e-04\n",
            "Epoch 37/100\n",
            "\u001b[1m1094/1094\u001b[0m \u001b[32m━━━━━━━━━━━━━━━━━━━━\u001b[0m\u001b[37m\u001b[0m \u001b[1m3s\u001b[0m 2ms/step - loss: 1.3300e-05 - mae: 0.0028 - val_loss: 1.4813e-05 - val_mae: 0.0028 - learning_rate: 1.0000e-04\n",
            "Epoch 38/100\n",
            "\u001b[1m1094/1094\u001b[0m \u001b[32m━━━━━━━━━━━━━━━━━━━━\u001b[0m\u001b[37m\u001b[0m \u001b[1m2s\u001b[0m 2ms/step - loss: 1.3556e-05 - mae: 0.0028 - val_loss: 1.4669e-05 - val_mae: 0.0028 - learning_rate: 1.0000e-04\n",
            "Epoch 39/100\n",
            "\u001b[1m1094/1094\u001b[0m \u001b[32m━━━━━━━━━━━━━━━━━━━━\u001b[0m\u001b[37m\u001b[0m \u001b[1m3s\u001b[0m 2ms/step - loss: 1.2641e-05 - mae: 0.0027 - val_loss: 1.5880e-05 - val_mae: 0.0029 - learning_rate: 1.0000e-04\n",
            "Epoch 40/100\n",
            "\u001b[1m1094/1094\u001b[0m \u001b[32m━━━━━━━━━━━━━━━━━━━━\u001b[0m\u001b[37m\u001b[0m \u001b[1m5s\u001b[0m 2ms/step - loss: 1.2768e-05 - mae: 0.0028 - val_loss: 1.5458e-05 - val_mae: 0.0030 - learning_rate: 1.0000e-04\n",
            "Epoch 41/100\n",
            "\u001b[1m1094/1094\u001b[0m \u001b[32m━━━━━━━━━━━━━━━━━━━━\u001b[0m\u001b[37m\u001b[0m \u001b[1m3s\u001b[0m 2ms/step - loss: 1.2447e-05 - mae: 0.0027 - val_loss: 1.7346e-05 - val_mae: 0.0031 - learning_rate: 1.0000e-04\n",
            "Epoch 42/100\n",
            "\u001b[1m1094/1094\u001b[0m \u001b[32m━━━━━━━━━━━━━━━━━━━━\u001b[0m\u001b[37m\u001b[0m \u001b[1m2s\u001b[0m 2ms/step - loss: 1.2097e-05 - mae: 0.0027 - val_loss: 1.5177e-05 - val_mae: 0.0029 - learning_rate: 1.0000e-04\n",
            "Epoch 43/100\n",
            "\u001b[1m1094/1094\u001b[0m \u001b[32m━━━━━━━━━━━━━━━━━━━━\u001b[0m\u001b[37m\u001b[0m \u001b[1m3s\u001b[0m 2ms/step - loss: 1.1643e-05 - mae: 0.0026 - val_loss: 1.2503e-05 - val_mae: 0.0026 - learning_rate: 1.0000e-04\n",
            "Epoch 44/100\n",
            "\u001b[1m1094/1094\u001b[0m \u001b[32m━━━━━━━━━━━━━━━━━━━━\u001b[0m\u001b[37m\u001b[0m \u001b[1m5s\u001b[0m 2ms/step - loss: 1.1212e-05 - mae: 0.0026 - val_loss: 1.2438e-05 - val_mae: 0.0026 - learning_rate: 1.0000e-04\n",
            "Epoch 45/100\n",
            "\u001b[1m1094/1094\u001b[0m \u001b[32m━━━━━━━━━━━━━━━━━━━━\u001b[0m\u001b[37m\u001b[0m \u001b[1m3s\u001b[0m 2ms/step - loss: 1.1643e-05 - mae: 0.0026 - val_loss: 1.4171e-05 - val_mae: 0.0028 - learning_rate: 1.0000e-04\n",
            "Epoch 46/100\n",
            "\u001b[1m1094/1094\u001b[0m \u001b[32m━━━━━━━━━━━━━━━━━━━━\u001b[0m\u001b[37m\u001b[0m \u001b[1m3s\u001b[0m 2ms/step - loss: 1.2074e-05 - mae: 0.0027 - val_loss: 1.2765e-05 - val_mae: 0.0027 - learning_rate: 1.0000e-04\n",
            "Epoch 47/100\n",
            "\u001b[1m1094/1094\u001b[0m \u001b[32m━━━━━━━━━━━━━━━━━━━━\u001b[0m\u001b[37m\u001b[0m \u001b[1m2s\u001b[0m 2ms/step - loss: 1.1331e-05 - mae: 0.0026 - val_loss: 1.3184e-05 - val_mae: 0.0027 - learning_rate: 1.0000e-04\n",
            "Epoch 48/100\n",
            "\u001b[1m1094/1094\u001b[0m \u001b[32m━━━━━━━━━━━━━━━━━━━━\u001b[0m\u001b[37m\u001b[0m \u001b[1m3s\u001b[0m 3ms/step - loss: 1.1300e-05 - mae: 0.0026 - val_loss: 1.4678e-05 - val_mae: 0.0029 - learning_rate: 1.0000e-04\n",
            "Epoch 49/100\n",
            "\u001b[1m1094/1094\u001b[0m \u001b[32m━━━━━━━━━━━━━━━━━━━━\u001b[0m\u001b[37m\u001b[0m \u001b[1m4s\u001b[0m 2ms/step - loss: 1.0504e-05 - mae: 0.0025 - val_loss: 1.0804e-05 - val_mae: 0.0024 - learning_rate: 1.0000e-04\n",
            "Epoch 50/100\n",
            "\u001b[1m1094/1094\u001b[0m \u001b[32m━━━━━━━━━━━━━━━━━━━━\u001b[0m\u001b[37m\u001b[0m \u001b[1m2s\u001b[0m 2ms/step - loss: 1.0250e-05 - mae: 0.0025 - val_loss: 1.4993e-05 - val_mae: 0.0030 - learning_rate: 1.0000e-04\n",
            "Epoch 51/100\n",
            "\u001b[1m1094/1094\u001b[0m \u001b[32m━━━━━━━━━━━━━━━━━━━━\u001b[0m\u001b[37m\u001b[0m \u001b[1m2s\u001b[0m 2ms/step - loss: 9.8917e-06 - mae: 0.0024 - val_loss: 1.3856e-05 - val_mae: 0.0029 - learning_rate: 1.0000e-04\n",
            "Epoch 52/100\n",
            "\u001b[1m1094/1094\u001b[0m \u001b[32m━━━━━━━━━━━━━━━━━━━━\u001b[0m\u001b[37m\u001b[0m \u001b[1m3s\u001b[0m 3ms/step - loss: 1.0372e-05 - mae: 0.0025 - val_loss: 1.5014e-05 - val_mae: 0.0030 - learning_rate: 1.0000e-04\n",
            "Epoch 53/100\n",
            "\u001b[1m1094/1094\u001b[0m \u001b[32m━━━━━━━━━━━━━━━━━━━━\u001b[0m\u001b[37m\u001b[0m \u001b[1m4s\u001b[0m 2ms/step - loss: 1.0187e-05 - mae: 0.0025 - val_loss: 1.0219e-05 - val_mae: 0.0023 - learning_rate: 1.0000e-04\n",
            "Epoch 54/100\n",
            "\u001b[1m1094/1094\u001b[0m \u001b[32m━━━━━━━━━━━━━━━━━━━━\u001b[0m\u001b[37m\u001b[0m \u001b[1m3s\u001b[0m 2ms/step - loss: 1.0713e-05 - mae: 0.0025 - val_loss: 1.0799e-05 - val_mae: 0.0024 - learning_rate: 1.0000e-04\n",
            "Epoch 55/100\n",
            "\u001b[1m1094/1094\u001b[0m \u001b[32m━━━━━━━━━━━━━━━━━━━━\u001b[0m\u001b[37m\u001b[0m \u001b[1m3s\u001b[0m 2ms/step - loss: 9.4950e-06 - mae: 0.0024 - val_loss: 1.0117e-05 - val_mae: 0.0023 - learning_rate: 1.0000e-04\n",
            "Epoch 56/100\n",
            "\u001b[1m1094/1094\u001b[0m \u001b[32m━━━━━━━━━━━━━━━━━━━━\u001b[0m\u001b[37m\u001b[0m \u001b[1m3s\u001b[0m 3ms/step - loss: 9.5693e-06 - mae: 0.0024 - val_loss: 1.2454e-05 - val_mae: 0.0026 - learning_rate: 1.0000e-04\n",
            "Epoch 57/100\n",
            "\u001b[1m1094/1094\u001b[0m \u001b[32m━━━━━━━━━━━━━━━━━━━━\u001b[0m\u001b[37m\u001b[0m \u001b[1m5s\u001b[0m 2ms/step - loss: 1.0419e-05 - mae: 0.0025 - val_loss: 1.3423e-05 - val_mae: 0.0028 - learning_rate: 1.0000e-04\n",
            "Epoch 58/100\n",
            "\u001b[1m1094/1094\u001b[0m \u001b[32m━━━━━━━━━━━━━━━━━━━━\u001b[0m\u001b[37m\u001b[0m \u001b[1m5s\u001b[0m 2ms/step - loss: 9.4347e-06 - mae: 0.0024 - val_loss: 1.4361e-05 - val_mae: 0.0029 - learning_rate: 1.0000e-04\n",
            "Epoch 59/100\n",
            "\u001b[1m1094/1094\u001b[0m \u001b[32m━━━━━━━━━━━━━━━━━━━━\u001b[0m\u001b[37m\u001b[0m \u001b[1m3s\u001b[0m 3ms/step - loss: 9.3056e-06 - mae: 0.0024 - val_loss: 9.1333e-06 - val_mae: 0.0022 - learning_rate: 1.0000e-04\n",
            "Epoch 60/100\n",
            "\u001b[1m1094/1094\u001b[0m \u001b[32m━━━━━━━━━━━━━━━━━━━━\u001b[0m\u001b[37m\u001b[0m \u001b[1m5s\u001b[0m 2ms/step - loss: 8.9200e-06 - mae: 0.0023 - val_loss: 1.2519e-05 - val_mae: 0.0027 - learning_rate: 1.0000e-04\n",
            "Epoch 61/100\n",
            "\u001b[1m1094/1094\u001b[0m \u001b[32m━━━━━━━━━━━━━━━━━━━━\u001b[0m\u001b[37m\u001b[0m \u001b[1m2s\u001b[0m 2ms/step - loss: 9.3724e-06 - mae: 0.0024 - val_loss: 1.1030e-05 - val_mae: 0.0025 - learning_rate: 1.0000e-04\n",
            "Epoch 62/100\n",
            "\u001b[1m1094/1094\u001b[0m \u001b[32m━━━━━━━━━━━━━━━━━━━━\u001b[0m\u001b[37m\u001b[0m \u001b[1m3s\u001b[0m 2ms/step - loss: 9.0924e-06 - mae: 0.0023 - val_loss: 9.8526e-06 - val_mae: 0.0023 - learning_rate: 1.0000e-04\n",
            "Epoch 63/100\n",
            "\u001b[1m1094/1094\u001b[0m \u001b[32m━━━━━━━━━━━━━━━━━━━━\u001b[0m\u001b[37m\u001b[0m \u001b[1m3s\u001b[0m 2ms/step - loss: 9.3291e-06 - mae: 0.0024 - val_loss: 9.7233e-06 - val_mae: 0.0023 - learning_rate: 1.0000e-04\n",
            "Epoch 64/100\n",
            "\u001b[1m1094/1094\u001b[0m \u001b[32m━━━━━━━━━━━━━━━━━━━━\u001b[0m\u001b[37m\u001b[0m \u001b[1m3s\u001b[0m 3ms/step - loss: 9.1991e-06 - mae: 0.0024 - val_loss: 8.5884e-06 - val_mae: 0.0022 - learning_rate: 1.0000e-04\n",
            "Epoch 65/100\n",
            "\u001b[1m1094/1094\u001b[0m \u001b[32m━━━━━━━━━━━━━━━━━━━━\u001b[0m\u001b[37m\u001b[0m \u001b[1m4s\u001b[0m 2ms/step - loss: 8.5623e-06 - mae: 0.0023 - val_loss: 9.1931e-06 - val_mae: 0.0023 - learning_rate: 1.0000e-04\n",
            "Epoch 66/100\n",
            "\u001b[1m1094/1094\u001b[0m \u001b[32m━━━━━━━━━━━━━━━━━━━━\u001b[0m\u001b[37m\u001b[0m \u001b[1m2s\u001b[0m 2ms/step - loss: 8.8270e-06 - mae: 0.0023 - val_loss: 9.7383e-06 - val_mae: 0.0023 - learning_rate: 1.0000e-04\n",
            "Epoch 67/100\n",
            "\u001b[1m1094/1094\u001b[0m \u001b[32m━━━━━━━━━━━━━━━━━━━━\u001b[0m\u001b[37m\u001b[0m \u001b[1m2s\u001b[0m 2ms/step - loss: 1.1335e-05 - mae: 0.0026 - val_loss: 7.8193e-06 - val_mae: 0.0020 - learning_rate: 1.0000e-04\n",
            "Epoch 68/100\n",
            "\u001b[1m1094/1094\u001b[0m \u001b[32m━━━━━━━━━━━━━━━━━━━━\u001b[0m\u001b[37m\u001b[0m \u001b[1m3s\u001b[0m 3ms/step - loss: 8.4872e-06 - mae: 0.0023 - val_loss: 1.0517e-05 - val_mae: 0.0024 - learning_rate: 1.0000e-04\n",
            "Epoch 69/100\n",
            "\u001b[1m1094/1094\u001b[0m \u001b[32m━━━━━━━━━━━━━━━━━━━━\u001b[0m\u001b[37m\u001b[0m \u001b[1m4s\u001b[0m 2ms/step - loss: 9.6915e-06 - mae: 0.0024 - val_loss: 7.8725e-06 - val_mae: 0.0020 - learning_rate: 1.0000e-04\n",
            "Epoch 70/100\n",
            "\u001b[1m1094/1094\u001b[0m \u001b[32m━━━━━━━━━━━━━━━━━━━━\u001b[0m\u001b[37m\u001b[0m \u001b[1m2s\u001b[0m 2ms/step - loss: 8.1747e-06 - mae: 0.0022 - val_loss: 1.0221e-05 - val_mae: 0.0024 - learning_rate: 1.0000e-04\n",
            "Epoch 71/100\n",
            "\u001b[1m1094/1094\u001b[0m \u001b[32m━━━━━━━━━━━━━━━━━━━━\u001b[0m\u001b[37m\u001b[0m \u001b[1m2s\u001b[0m 2ms/step - loss: 8.1171e-06 - mae: 0.0022 - val_loss: 9.1648e-06 - val_mae: 0.0023 - learning_rate: 1.0000e-04\n",
            "Epoch 72/100\n",
            "\u001b[1m1094/1094\u001b[0m \u001b[32m━━━━━━━━━━━━━━━━━━━━\u001b[0m\u001b[37m\u001b[0m \u001b[1m3s\u001b[0m 2ms/step - loss: 8.5491e-06 - mae: 0.0023 - val_loss: 9.6534e-06 - val_mae: 0.0023 - learning_rate: 1.0000e-04\n",
            "Epoch 73/100\n",
            "\u001b[1m1094/1094\u001b[0m \u001b[32m━━━━━━━━━━━━━━━━━━━━\u001b[0m\u001b[37m\u001b[0m \u001b[1m5s\u001b[0m 2ms/step - loss: 8.2960e-06 - mae: 0.0022 - val_loss: 7.9190e-06 - val_mae: 0.0021 - learning_rate: 1.0000e-04\n",
            "Epoch 74/100\n",
            "\u001b[1m1094/1094\u001b[0m \u001b[32m━━━━━━━━━━━━━━━━━━━━\u001b[0m\u001b[37m\u001b[0m \u001b[1m3s\u001b[0m 2ms/step - loss: 8.1795e-06 - mae: 0.0022 - val_loss: 1.1979e-05 - val_mae: 0.0027 - learning_rate: 1.0000e-04\n",
            "Epoch 75/100\n",
            "\u001b[1m1094/1094\u001b[0m \u001b[32m━━━━━━━━━━━━━━━━━━━━\u001b[0m\u001b[37m\u001b[0m \u001b[1m2s\u001b[0m 2ms/step - loss: 8.5868e-06 - mae: 0.0023 - val_loss: 8.8287e-06 - val_mae: 0.0022 - learning_rate: 1.0000e-04\n",
            "Epoch 76/100\n",
            "\u001b[1m1094/1094\u001b[0m \u001b[32m━━━━━━━━━━━━━━━━━━━━\u001b[0m\u001b[37m\u001b[0m \u001b[1m2s\u001b[0m 2ms/step - loss: 7.5066e-06 - mae: 0.0021 - val_loss: 8.3023e-06 - val_mae: 0.0021 - learning_rate: 1.0000e-04\n",
            "Epoch 77/100\n",
            "\u001b[1m1094/1094\u001b[0m \u001b[32m━━━━━━━━━━━━━━━━━━━━\u001b[0m\u001b[37m\u001b[0m \u001b[1m3s\u001b[0m 3ms/step - loss: 8.0580e-06 - mae: 0.0022 - val_loss: 9.4515e-06 - val_mae: 0.0023 - learning_rate: 1.0000e-04\n"
          ]
        }
      ]
    },
    {
      "cell_type": "markdown",
      "source": [
        "### Evaluate & Save Performance Data"
      ],
      "metadata": {
        "id": "R8XgP6HIZyZt"
      }
    },
    {
      "cell_type": "code",
      "source": [
        "# Function to evaluate model\n",
        "def evaluate_model(model, X, y_true, model_name):\n",
        "    y_pred = model.predict(X)\n",
        "    mse = mean_squared_error(y_true, y_pred)\n",
        "    rmse = np.sqrt(mse)\n",
        "    r2 = r2_score(y_true, y_pred)\n",
        "    mape = np.mean(np.abs((y_true - y_pred) / y_true)) * 100\n",
        "    mmre = np.mean(np.abs((y_true - y_pred) / (y_true + 1e-10)))\n",
        "\n",
        "    print(f\"\\n📌 {model_name} Model Evaluation:\")\n",
        "    print(f\"MSE: {mse:.4f}\")\n",
        "    print(f\"RMSE: {rmse:.4f}\")\n",
        "    print(f\"R-Squared: {r2:.4f}\")\n",
        "    print(f\"MAPE: {mape:.2f}%\")\n",
        "    print(f\"MMRE: {mmre:.4f}\")\n",
        "\n",
        "    return mse, rmse, r2, mape, mmre\n",
        "\n",
        "# Evaluate models\n",
        "mlp_metrics = evaluate_model(mlp_model, X_test, y_test, \"MLP Model\")\n",
        "lstm_metrics = evaluate_model(lstm_model, X_test_lstm, y_test, \"LSTM Model\")\n",
        "\n",
        "# Save Performance Data\n",
        "performance_df = pd.DataFrame({\n",
        "    \"Model\": [\"MLP Model\", \"LSTM Model\"],\n",
        "    \"MSE\": [mlp_metrics[0], lstm_metrics[0]],\n",
        "    \"RMSE\": [mlp_metrics[1], lstm_metrics[1]],\n",
        "    \"R-Squared\": [mlp_metrics[2], lstm_metrics[2]],\n",
        "    \"MAPE (%)\": [mlp_metrics[3], lstm_metrics[3]],\n",
        "    \"MMRE\": [mlp_metrics[4], lstm_metrics[4]]\n",
        "})\n",
        "\n",
        "performance_df.to_csv(os.path.join(PERFORMANCE_DATA, \"deep_learning_performance.csv\"), index=False)\n",
        "\n",
        "# # Save trained models\n",
        "# mlp_model.save(os.path.join(MODELS_PATH, \"mlp_model.h5\"))\n",
        "# lstm_model.save(os.path.join(MODELS_PATH, \"lstm_model.h5\"))\n",
        "\n",
        "# Save models with their compiled state\n",
        "# Save models in the recommended Keras format (.keras)\n",
        "\n",
        "#Perform a dummy forward pass to build the model before saving\n",
        "dummy_input = np.zeros((1, 1, X_train.shape[1]))  # Ensure correct input shape\n",
        "_ = lstm_model.predict(dummy_input)  # This forces Keras to define layer inputs\n",
        "\n",
        "# Save models in the recommended format\n",
        "lstm_model.save(os.path.join(MODELS_PATH, \"lstm_model.keras\"), include_optimizer=True)\n",
        "\n",
        "\n",
        "mlp_model.save(os.path.join(MODELS_PATH, \"mlp_model.keras\"), include_optimizer=True)\n",
        "#lstm_model.save(os.path.join(MODELS_PATH, \"lstm_model.keras\"), include_optimizer=True)\n",
        "\n",
        "print(\"\\n✅ Deep learning models and performance data saved successfully.\")"
      ],
      "metadata": {
        "colab": {
          "base_uri": "https://localhost:8080/"
        },
        "id": "gGMQpAljZwKh",
        "outputId": "d7c51dc8-1f20-425b-9f87-840c690956f4"
      },
      "execution_count": null,
      "outputs": [
        {
          "output_type": "stream",
          "name": "stdout",
          "text": [
            "\u001b[1m235/235\u001b[0m \u001b[32m━━━━━━━━━━━━━━━━━━━━\u001b[0m\u001b[37m\u001b[0m \u001b[1m0s\u001b[0m 1ms/step\n",
            "\n",
            "📌 MLP Model Model Evaluation:\n",
            "MSE: 0.0126\n",
            "RMSE: 0.1124\n",
            "R-Squared: 0.9873\n",
            "MAPE: 209.26%\n",
            "MMRE: 2.0926\n",
            "\u001b[1m235/235\u001b[0m \u001b[32m━━━━━━━━━━━━━━━━━━━━\u001b[0m\u001b[37m\u001b[0m \u001b[1m0s\u001b[0m 1ms/step\n",
            "\n",
            "📌 LSTM Model Model Evaluation:\n",
            "MSE: 0.0000\n",
            "RMSE: 0.0029\n",
            "R-Squared: 1.0000\n",
            "MAPE: 7.60%\n",
            "MMRE: 0.0760\n",
            "\u001b[1m1/1\u001b[0m \u001b[32m━━━━━━━━━━━━━━━━━━━━\u001b[0m\u001b[37m\u001b[0m \u001b[1m0s\u001b[0m 338ms/step\n",
            "\n",
            "✅ Deep learning models and performance data saved successfully.\n"
          ]
        }
      ]
    },
    {
      "cell_type": "code",
      "source": [
        "# Function to evaluate model\n",
        "def evaluate_model(model, X, y_true, model_name):\n",
        "    y_pred = model.predict(X)\n",
        "    mse = mean_squared_error(y_true, y_pred)\n",
        "    rmse = np.sqrt(mse)\n",
        "    r2 = r2_score(y_true, y_pred)\n",
        "    mape = np.mean(np.abs((y_true - y_pred) / y_true)) * 100\n",
        "    mmre = np.mean(np.abs((y_true - y_pred) / (y_true + 1e-10)))\n",
        "\n",
        "    print(f\"\\n📌 {model_name} Model Evaluation:\")\n",
        "    print(f\"MSE: {mse:.4f}\")\n",
        "    print(f\"RMSE: {rmse:.4f}\")\n",
        "    print(f\"R-Squared: {r2:.4f}\")\n",
        "    print(f\"MAPE: {mape:.2f}%\")\n",
        "    print(f\"MMRE: {mmre:.4f}\")\n",
        "    return mse, rmse, r2, mape, mmre\n",
        "\n",
        "# Evaluate models\n",
        "mlp_metrics = evaluate_model(mlp_model, X_test, y_test, \"MLP Model\")\n",
        "lstm_metrics = evaluate_model(lstm_model, X_test_lstm, y_test, \"LSTM Model\")\n",
        "\n",
        "# Save Performance Data\n",
        "performance_df = pd.DataFrame({\n",
        "    \"Model\": [\"MLP Model\", \"LSTM Model\"],\n",
        "    \"MSE\": [mlp_metrics[0], lstm_metrics[0]],\n",
        "    \"RMSE\": [mlp_metrics[1], lstm_metrics[1]],\n",
        "    \"R-Squared\": [mlp_metrics[2], lstm_metrics[2]],\n",
        "    \"MAPE (%)\": [mlp_metrics[3], lstm_metrics[3]],\n",
        "    \"MMRE\": [mlp_metrics[4], lstm_metrics[4]]\n",
        "})\n",
        "performance_df.to_csv(os.path.join(PERFORMANCE_DATA, \"deep_learning_performance.csv\"), index=False)\n",
        "\n",
        "# Perform dummy forward passes to build the models before saving\n",
        "# For LSTM\n",
        "dummy_input_lstm = np.zeros((1, 1, X_train_lstm.shape[2]))  # Shape: (batch_size, timesteps, features)\n",
        "_ = lstm_model.predict(dummy_input_lstm)\n",
        "\n",
        "# For MLP\n",
        "dummy_input_mlp = np.zeros((1, X_train.shape[1]))  # Shape: (batch_size, features)\n",
        "_ = mlp_model.predict(dummy_input_mlp)\n",
        "\n",
        "# Save models in the recommended format\n",
        "lstm_model.save(os.path.join(MODELS_PATH, \"lstm_model.keras\"), include_optimizer=True)\n",
        "mlp_model.save(os.path.join(MODELS_PATH, \"mlp_model.keras\"), include_optimizer=True)\n",
        "\n",
        "print(\"\\n✅ Deep learning models and performance data saved successfully.\")"
      ],
      "metadata": {
        "colab": {
          "base_uri": "https://localhost:8080/"
        },
        "id": "brXIErYFi3HF",
        "outputId": "a3b73fa4-49cd-494d-861d-da252ce62cd3"
      },
      "execution_count": null,
      "outputs": [
        {
          "output_type": "stream",
          "name": "stdout",
          "text": [
            "\u001b[1m235/235\u001b[0m \u001b[32m━━━━━━━━━━━━━━━━━━━━\u001b[0m\u001b[37m\u001b[0m \u001b[1m0s\u001b[0m 1ms/step\n",
            "\n",
            "📌 MLP Model Model Evaluation:\n",
            "MSE: 0.0126\n",
            "RMSE: 0.1124\n",
            "R-Squared: 0.9873\n",
            "MAPE: 209.26%\n",
            "MMRE: 2.0926\n",
            "\u001b[1m235/235\u001b[0m \u001b[32m━━━━━━━━━━━━━━━━━━━━\u001b[0m\u001b[37m\u001b[0m \u001b[1m0s\u001b[0m 1ms/step\n",
            "\n",
            "📌 LSTM Model Model Evaluation:\n",
            "MSE: 0.0000\n",
            "RMSE: 0.0029\n",
            "R-Squared: 1.0000\n",
            "MAPE: 7.60%\n",
            "MMRE: 0.0760\n",
            "\u001b[1m1/1\u001b[0m \u001b[32m━━━━━━━━━━━━━━━━━━━━\u001b[0m\u001b[37m\u001b[0m \u001b[1m0s\u001b[0m 16ms/step\n",
            "\u001b[1m1/1\u001b[0m \u001b[32m━━━━━━━━━━━━━━━━━━━━\u001b[0m\u001b[37m\u001b[0m \u001b[1m0s\u001b[0m 16ms/step\n",
            "\n",
            "✅ Deep learning models and performance data saved successfully.\n"
          ]
        }
      ]
    }
  ]
}