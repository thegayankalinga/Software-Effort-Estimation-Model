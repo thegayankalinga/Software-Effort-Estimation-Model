{
  "cells": [
    {
      "cell_type": "markdown",
      "metadata": {
        "id": "view-in-github",
        "colab_type": "text"
      },
      "source": [
        "<a href=\"https://colab.research.google.com/github/thegayankalinga/see_model_implementation/blob/main/see_implementation_phase01_v4.ipynb\" target=\"_parent\"><img src=\"https://colab.research.google.com/assets/colab-badge.svg\" alt=\"Open In Colab\"/></a>"
      ]
    },
    {
      "cell_type": "markdown",
      "source": [
        "## Phase 1: Data Exploration and Preprocessing"
      ],
      "metadata": {
        "id": "C_aP_9Jx-z9R"
      },
      "id": "C_aP_9Jx-z9R"
    },
    {
      "cell_type": "code",
      "source": [
        "# Check GPU availability\n",
        "import tensorflow as tf"
      ],
      "metadata": {
        "id": "TKjAETyJx8vT"
      },
      "id": "TKjAETyJx8vT",
      "execution_count": null,
      "outputs": []
    },
    {
      "cell_type": "code",
      "id": "initial_id",
      "metadata": {
        "collapsed": true,
        "ExecuteTime": {
          "end_time": "2025-02-15T03:11:18.784545Z",
          "start_time": "2025-02-15T03:11:18.777487Z"
        },
        "id": "initial_id"
      },
      "source": [
        "import pandas as pd\n",
        "import numpy as np\n",
        "import matplotlib.pyplot as plt\n",
        "import seaborn as sns\n",
        "from sklearn.preprocessing import LabelEncoder, StandardScaler\n",
        "from sklearn.model_selection import train_test_split\n",
        "from tqdm.notebook import tqdm\n",
        "import warnings\n",
        "warnings.filterwarnings('ignore')\n",
        "import gc\n",
        "import os\n",
        "from psutil import Process"
      ],
      "outputs": [],
      "execution_count": null
    },
    {
      "cell_type": "code",
      "source": [
        "# Monitor memory usage\n",
        "from psutil import virtual_memory\n",
        "def print_memory_usage():\n",
        "    ram_gb = virtual_memory().total / 1e9\n",
        "    ram_percent = virtual_memory().percent\n",
        "    print(f'RAM Usage: {ram_percent:.1f}% of {ram_gb:.1f} GB')\n"
      ],
      "metadata": {
        "id": "I2Zu1KPuyW49"
      },
      "id": "I2Zu1KPuyW49",
      "execution_count": null,
      "outputs": []
    },
    {
      "metadata": {
        "id": "47a91a65e362ff6f"
      },
      "cell_type": "markdown",
      "source": [
        "### 1. Data Loading with optimized settings"
      ],
      "id": "47a91a65e362ff6f"
    },
    {
      "cell_type": "code",
      "source": [
        "from google.colab import drive\n",
        "drive.mount('/content/drive')"
      ],
      "metadata": {
        "colab": {
          "base_uri": "https://localhost:8080/"
        },
        "id": "7IOqBpYcxQqC",
        "outputId": "d760fe2e-5e1e-45aa-8507-97b79743e0b6"
      },
      "id": "7IOqBpYcxQqC",
      "execution_count": null,
      "outputs": [
        {
          "output_type": "stream",
          "name": "stdout",
          "text": [
            "Drive already mounted at /content/drive; to attempt to forcibly remount, call drive.mount(\"/content/drive\", force_remount=True).\n"
          ]
        }
      ]
    },
    {
      "cell_type": "code",
      "source": [
        "from google.colab import userdata\n",
        "dataset_path =    userdata.get('dataset_path')"
      ],
      "metadata": {
        "id": "VGWPyNkUypSp"
      },
      "id": "VGWPyNkUypSp",
      "execution_count": null,
      "outputs": []
    },
    {
      "metadata": {
        "ExecuteTime": {
          "end_time": "2025-02-15T03:11:18.994399Z",
          "start_time": "2025-02-15T03:11:18.837525Z"
        },
        "colab": {
          "base_uri": "https://localhost:8080/"
        },
        "id": "656238d97c26d466",
        "outputId": "fff579b1-ed03-43fb-9258-37b92b3b9598"
      },
      "cell_type": "code",
      "source": [
        "@tf.function\n",
        "def gpu_accelerated_processing(data):\n",
        "    \"\"\"Perform GPU-accelerated operations if needed\"\"\"\n",
        "    return tf.identity(data)\n",
        "\n",
        "print(\"1. Loading the dataset...\")\n",
        "print_memory_usage()\n",
        "\n",
        "df = pd.read_csv(f\"{dataset_path}/project_mandays_calculations50k_augmented.csv\",\n",
        "                 dtype={\n",
        "                     'region': 'category',\n",
        "                     'dev_environment': 'category',\n",
        "                     'sit_environment': 'category',\n",
        "                     'uat_environment': 'category',\n",
        "                     'staging_environment': 'category',\n",
        "                     'training_environment': 'category',\n",
        "                     'production_environment': 'category',\n",
        "                     'dr_environment': 'category',\n",
        "                     'compliance_pci_sff': 'category',\n",
        "                     'compliance_country_specific': 'category',\n",
        "                     'backend_technology': 'category',\n",
        "                     'frontend_technology': 'category',\n",
        "                     'mobile_technology': 'category',\n",
        "                     'database': 'category',\n",
        "                     'infrastructure_type': 'category'\n",
        "                 })\n",
        "print(f\"Dataset shape: {df.shape}\")\n"
      ],
      "id": "656238d97c26d466",
      "outputs": [
        {
          "output_type": "stream",
          "name": "stdout",
          "text": [
            "1. Loading the dataset...\n",
            "RAM Usage: 17.5% of 13.6 GB\n",
            "Dataset shape: (50000, 46)\n"
          ]
        }
      ],
      "execution_count": null
    },
    {
      "metadata": {
        "id": "4c05e589a45888c3"
      },
      "cell_type": "markdown",
      "source": [
        "###  2. Memory Usage Optimization"
      ],
      "id": "4c05e589a45888c3"
    },
    {
      "metadata": {
        "ExecuteTime": {
          "end_time": "2025-02-15T03:11:19.012974Z",
          "start_time": "2025-02-15T03:11:18.998313Z"
        },
        "id": "d40495b3edb2976f"
      },
      "cell_type": "code",
      "source": [
        "# # 2. Memory Usage Optimization for Colab\n",
        "# def reduce_mem_usage(df):\n",
        "#     start_mem = df.memory_usage().sum() / 1024**2\n",
        "#     print('Memory usage of dataframe is {:.2f} MB'.format(start_mem))\n",
        "\n",
        "#     for col in tqdm(df.columns, desc=\"Optimizing memory usage\"):\n",
        "#         col_type = df[col].dtype\n",
        "\n",
        "#         if col_type != object and col_type != 'category':\n",
        "#             c_min = df[col].min()\n",
        "#             c_max = df[col].max()\n",
        "\n",
        "#             if str(col_type)[:3] == 'int':\n",
        "#                 if c_min > np.iinfo(np.int8).min and c_max < np.iinfo(np.int8).max:\n",
        "#                     df[col] = df[col].astype(np.int8)\n",
        "#                 elif c_min > np.iinfo(np.int16).min and c_max < np.iinfo(np.int16).max:\n",
        "#                     df[col] = df[col].astype(np.int16)\n",
        "#                 elif c_min > np.iinfo(np.int32).min and c_max < np.iinfo(np.int32).max:\n",
        "#                     df[col] = df[col].astype(np.int32)\n",
        "#             else:\n",
        "#                 if c_min > np.finfo(np.float16).min and c_max < np.finfo(np.float16).max:\n",
        "#                     df[col] = df[col].astype(np.float16)\n",
        "#                 elif c_min > np.finfo(np.float32).min and c_max < np.finfo(np.float32).max:\n",
        "#                     df[col] = df[col].astype(np.float32)\n",
        "\n",
        "#     end_mem = df.memory_usage().sum() / 1024**2\n",
        "#     print('Memory usage after optimization is: {:.2f} MB'.format(end_mem))\n",
        "#     print('Decreased by {:.1f}%'.format(100 * (start_mem - end_mem) / start_mem))\n",
        "#     return df\n",
        "\n",
        "# df = reduce_mem_usage(df)\n",
        "\n",
        "# # Clear memory\n",
        "# import gc\n",
        "# gc.collect()\n",
        "# print_memory_usage()"
      ],
      "id": "d40495b3edb2976f",
      "outputs": [],
      "execution_count": null
    },
    {
      "metadata": {
        "id": "faa10bc54cb33c17"
      },
      "cell_type": "markdown",
      "source": [
        "### 3. Initial Data Exploration"
      ],
      "id": "faa10bc54cb33c17"
    },
    {
      "metadata": {
        "ExecuteTime": {
          "end_time": "2025-02-15T03:11:19.087466Z",
          "start_time": "2025-02-15T03:11:19.025970Z"
        },
        "colab": {
          "base_uri": "https://localhost:8080/"
        },
        "id": "5a7ae733cbef4438",
        "outputId": "1c004bcd-e1c4-4763-8c72-e4dad4cb096d"
      },
      "cell_type": "code",
      "source": [
        "print(\"\\n3. Initial data exploration\")\n",
        "print(\"\\nData info:\")\n",
        "print(df.info())\n",
        "\n",
        "print(\"\\nBasic statistics for numerical columns:\")\n",
        "print(df.describe())\n"
      ],
      "id": "5a7ae733cbef4438",
      "outputs": [
        {
          "output_type": "stream",
          "name": "stdout",
          "text": [
            "\n",
            "3. Initial data exploration\n",
            "\n",
            "Data info:\n",
            "<class 'pandas.core.frame.DataFrame'>\n",
            "RangeIndex: 50000 entries, 0 to 49999\n",
            "Data columns (total 46 columns):\n",
            " #   Column                         Non-Null Count  Dtype   \n",
            "---  ------                         --------------  -----   \n",
            " 0   region                         50000 non-null  category\n",
            " 1   dev_environment                50000 non-null  category\n",
            " 2   sit_environment                50000 non-null  category\n",
            " 3   uat_environment                50000 non-null  category\n",
            " 4   staging_environment            50000 non-null  category\n",
            " 5   training_environment           50000 non-null  category\n",
            " 6   production_environment         50000 non-null  category\n",
            " 7   dr_environment                 50000 non-null  category\n",
            " 8   compliance_pci_sff             50000 non-null  category\n",
            " 9   compliance_country_specific    50000 non-null  category\n",
            " 10  backend_technology             50000 non-null  category\n",
            " 11  frontend_technology            50000 non-null  category\n",
            " 12  mobile_technology              50000 non-null  category\n",
            " 13  database                       50000 non-null  category\n",
            " 14  google_sso                     50000 non-null  object  \n",
            " 15  apple_sso                      50000 non-null  object  \n",
            " 16  facebook_sso                   50000 non-null  object  \n",
            " 17  iam_vendor                     50000 non-null  object  \n",
            " 18  infrastructure_type            50000 non-null  category\n",
            " 19  dependency_complexity          50000 non-null  object  \n",
            " 20  customer_decision_speed        50000 non-null  object  \n",
            " 21  client_technical_knowledge     50000 non-null  object  \n",
            " 22  device_test_coverage           50000 non-null  object  \n",
            " 23  test_automation                50000 non-null  object  \n",
            " 24  regression_type                50000 non-null  object  \n",
            " 25  middleware_availability        50000 non-null  object  \n",
            " 26  payment_provider_integration   50000 non-null  object  \n",
            " 27  fido                           50000 non-null  object  \n",
            " 28  data_migration                 50000 non-null  object  \n",
            " 29  no_of_languages                50000 non-null  int64   \n",
            " 30  no_of_rtl_languages            50000 non-null  int64   \n",
            " 31  tps_required                   50000 non-null  int64   \n",
            " 32  warranty_months                50000 non-null  int64   \n",
            " 33  no_of_functional_modules       50000 non-null  int64   \n",
            " 34  no_of_none_functional_modules  50000 non-null  int64   \n",
            " 35  uat_cycles                     50000 non-null  int64   \n",
            " 36  test_coverage                  50000 non-null  float64 \n",
            " 37  rest_integration_points        50000 non-null  int64   \n",
            " 38  soap_integration_points        50000 non-null  int64   \n",
            " 39  iso8583_integration_points     50000 non-null  int64   \n",
            " 40  sdk_integration_points         50000 non-null  int64   \n",
            " 41  project_name                   50000 non-null  object  \n",
            " 42  delivery                       50000 non-null  float64 \n",
            " 43  engineering                    50000 non-null  float64 \n",
            " 44  devops                         50000 non-null  float64 \n",
            " 45  qa                             50000 non-null  float64 \n",
            "dtypes: category(15), float64(5), int64(11), object(15)\n",
            "memory usage: 12.5+ MB\n",
            "None\n",
            "\n",
            "Basic statistics for numerical columns:\n",
            "       no_of_languages  no_of_rtl_languages  tps_required  warranty_months  \\\n",
            "count     50000.000000         50000.000000  50000.000000     50000.000000   \n",
            "mean          2.071880             0.488020    793.152000         3.901440   \n",
            "std           0.917415             0.860018    387.096502         1.375414   \n",
            "min           1.000000             0.000000    100.000000         3.000000   \n",
            "25%           1.000000             0.000000    500.000000         3.000000   \n",
            "50%           2.000000             0.000000    800.000000         3.000000   \n",
            "75%           3.000000             1.000000   1100.000000         6.000000   \n",
            "max           5.000000             3.000000   1400.000000         6.000000   \n",
            "\n",
            "       no_of_functional_modules  no_of_none_functional_modules    uat_cycles  \\\n",
            "count              50000.000000                   50000.000000  50000.000000   \n",
            "mean                 169.593440                      67.425260      2.496800   \n",
            "std                   29.990443                      16.367291      1.117897   \n",
            "min                  125.000000                      28.000000      1.000000   \n",
            "25%                  146.000000                      56.000000      1.000000   \n",
            "50%                  168.000000                      68.000000      2.000000   \n",
            "75%                  190.000000                      80.000000      3.000000   \n",
            "max                  250.000000                      92.000000      4.000000   \n",
            "\n",
            "       test_coverage  rest_integration_points  soap_integration_points  \\\n",
            "count   50000.000000             50000.000000             50000.000000   \n",
            "mean        0.749516                23.407460                 4.222320   \n",
            "std         0.111587                10.091283                 3.218344   \n",
            "min         0.600000                 8.000000                 0.000000   \n",
            "25%         0.700000                16.000000                 1.000000   \n",
            "50%         0.700000                23.000000                 4.000000   \n",
            "75%         0.800000                30.000000                 7.000000   \n",
            "max         0.900000                50.000000                10.000000   \n",
            "\n",
            "       iso8583_integration_points  sdk_integration_points      delivery  \\\n",
            "count                50000.000000             50000.00000  50000.000000   \n",
            "mean                     0.378800                 1.37806    255.489106   \n",
            "std                      0.609096                 0.60908     17.712590   \n",
            "min                      0.000000                 1.00000    193.100000   \n",
            "25%                      0.000000                 1.00000    243.100000   \n",
            "50%                      0.000000                 1.00000    254.900000   \n",
            "75%                      1.000000                 2.00000    267.400000   \n",
            "max                      2.000000                 3.00000    319.600000   \n",
            "\n",
            "        engineering        devops            qa  \n",
            "count  50000.000000  50000.000000  50000.000000  \n",
            "mean     854.825532    268.254776    311.199324  \n",
            "std       64.359448     19.964307     21.426925  \n",
            "min      641.100000    190.900000    231.200000  \n",
            "25%      809.800000    254.600000    296.575000  \n",
            "50%      853.300000    268.450000    311.100000  \n",
            "75%      898.200000    282.000000    325.800000  \n",
            "max     1111.200000    340.600000    388.200000  \n"
          ]
        }
      ],
      "execution_count": null
    },
    {
      "metadata": {
        "id": "9a7e82bb548d5e77"
      },
      "cell_type": "markdown",
      "source": [
        "### 4. Missing Value Analysis"
      ],
      "id": "9a7e82bb548d5e77"
    },
    {
      "metadata": {
        "ExecuteTime": {
          "end_time": "2025-02-15T03:11:19.117912Z",
          "start_time": "2025-02-15T03:11:19.095844Z"
        },
        "colab": {
          "base_uri": "https://localhost:8080/"
        },
        "id": "1492e12e70851ad9",
        "outputId": "aa87af89-d517-4b5a-bed5-cca7ec1924a3"
      },
      "cell_type": "code",
      "source": [
        "print(\"\\n4. Missing value analysis\")\n",
        "missing_values = df.isnull().sum()\n",
        "missing_percentages = (missing_values / len(df)) * 100\n",
        "print(\"\\nMissing values percentage per column:\")\n",
        "print(missing_percentages[missing_percentages > 0])"
      ],
      "id": "1492e12e70851ad9",
      "outputs": [
        {
          "output_type": "stream",
          "name": "stdout",
          "text": [
            "\n",
            "4. Missing value analysis\n",
            "\n",
            "Missing values percentage per column:\n",
            "Series([], dtype: float64)\n"
          ]
        }
      ],
      "execution_count": null
    },
    {
      "metadata": {
        "id": "f786821199b62574"
      },
      "cell_type": "markdown",
      "source": [
        "### 5. Feature Analysis"
      ],
      "id": "f786821199b62574"
    },
    {
      "metadata": {
        "ExecuteTime": {
          "end_time": "2025-02-15T03:11:19.134076Z",
          "start_time": "2025-02-15T03:11:19.125823Z"
        },
        "id": "f22827507320315a"
      },
      "cell_type": "code",
      "source": [
        "numerical_cols = df.select_dtypes(include=['int8', 'int16', 'int32', 'float16', 'float32', 'float64']).columns\n",
        "categorical_cols = df.select_dtypes(include=['category', 'object']).columns\n"
      ],
      "id": "f22827507320315a",
      "outputs": [],
      "execution_count": null
    },
    {
      "metadata": {
        "id": "302fcbaecaab74c3"
      },
      "cell_type": "markdown",
      "source": [
        "### 6. Target Variable Analysis"
      ],
      "id": "302fcbaecaab74c3"
    },
    {
      "metadata": {
        "ExecuteTime": {
          "end_time": "2025-02-15T03:11:19.533472Z",
          "start_time": "2025-02-15T03:11:19.142163Z"
        },
        "colab": {
          "base_uri": "https://localhost:8080/",
          "height": 476
        },
        "id": "43f97dc450b57763",
        "outputId": "fd9e6af5-2b13-4012-edd4-114245d05e4e"
      },
      "cell_type": "code",
      "source": [
        "target_vars = ['delivery', 'engineering', 'devops', 'qa']\n",
        "\n",
        "# Using more efficient plotting for large dataset\n",
        "plt.figure(figsize=(15, 10))\n",
        "for i, target in enumerate(target_vars, 1):\n",
        "    plt.subplot(2, 2, i)\n",
        "    # Use bins='auto' for automatic bin size selection\n",
        "    sns.histplot(data=df[target].sample(n=min(10000, len(df))), bins='auto')\n",
        "    plt.title(f'Distribution of {target} (sampled)')\n",
        "plt.tight_layout()\n",
        "plt.show()"
      ],
      "id": "43f97dc450b57763",
      "outputs": [
        {
          "output_type": "display_data",
          "data": {
            "text/plain": [
              "<Figure size 1500x1000 with 4 Axes>"
            ],
            "image/png": "[encoded data removed]"
          },
          "metadata": {}
        }
      ],
      "execution_count": null
    },
    {
      "metadata": {
        "id": "204717639a2fd311"
      },
      "cell_type": "markdown",
      "source": [
        "### 7. Correlation Analysis (using sampling for large dataset)"
      ],
      "id": "204717639a2fd311"
    },
    {
      "metadata": {
        "ExecuteTime": {
          "end_time": "2025-02-15T03:11:19.881132Z",
          "start_time": "2025-02-15T03:11:19.544535Z"
        },
        "colab": {
          "base_uri": "https://localhost:8080/",
          "height": 520
        },
        "id": "43dabe62524d0206",
        "outputId": "1c87f4fd-0768-4aa3-e388-ddc2708f5bb0"
      },
      "cell_type": "code",
      "source": [
        "sample_size = min(10000, len(df))\n",
        "sampled_df = df.sample(n=sample_size, random_state=42)\n",
        "numerical_df = sampled_df[numerical_cols]\n",
        "correlation_matrix = numerical_df.corr()\n",
        "\n",
        "plt.figure(figsize=(12, 8))\n",
        "sns.heatmap(correlation_matrix, annot=True, cmap='coolwarm', center=0)\n",
        "plt.title('Correlation Matrix of Numerical Features (sampled)')\n",
        "plt.tight_layout()\n",
        "plt.show()"
      ],
      "id": "43dabe62524d0206",
      "outputs": [
        {
          "output_type": "display_data",
          "data": {
            "text/plain": [
              "<Figure size 1200x800 with 2 Axes>"
            ],
            "image/png": "[encoded data removed]"
          },
          "metadata": {}
        }
      ],
      "execution_count": null
    },
    {
      "metadata": {
        "id": "986af064e5b26ffb"
      },
      "cell_type": "markdown",
      "source": [
        "### 8. Data Preprocessing"
      ],
      "id": "986af064e5b26ffb"
    },
    {
      "metadata": {
        "ExecuteTime": {
          "end_time": "2025-02-15T03:11:19.902879Z",
          "start_time": "2025-02-15T03:11:19.899172Z"
        },
        "colab": {
          "base_uri": "https://localhost:8080/"
        },
        "id": "4fa8e9f07283d529",
        "outputId": "9eb80ab7-164b-4999-82f8-010f36c28065"
      },
      "cell_type": "code",
      "source": [
        "print(\"\\n8. Data preprocessing\")"
      ],
      "id": "4fa8e9f07283d529",
      "outputs": [
        {
          "output_type": "stream",
          "name": "stdout",
          "text": [
            "\n",
            "8. Data preprocessing\n"
          ]
        }
      ],
      "execution_count": null
    },
    {
      "metadata": {
        "id": "dc11c6ee73b6bc63"
      },
      "cell_type": "markdown",
      "source": [
        "#### 8.1 Handle missing values"
      ],
      "id": "dc11c6ee73b6bc63"
    },
    {
      "metadata": {
        "ExecuteTime": {
          "end_time": "2025-02-15T03:11:19.947340Z",
          "start_time": "2025-02-15T03:11:19.924497Z"
        },
        "colab": {
          "base_uri": "https://localhost:8080/"
        },
        "id": "d8606fd5e0b7497d",
        "outputId": "fa1e9edb-0759-4c88-89b1-10708661bbed"
      },
      "cell_type": "code",
      "source": [
        "print(\"\\n8.1 Handling missing values...\")\n",
        "for col in numerical_cols:\n",
        "    if df[col].isnull().sum() > 0:\n",
        "        df[col].fillna(df[col].median(), inplace=True)\n",
        "\n",
        "for col in categorical_cols:\n",
        "    if df[col].isnull().sum() > 0:\n",
        "        df[col].fillna(df[col].mode()[0], inplace=True)"
      ],
      "id": "d8606fd5e0b7497d",
      "outputs": [
        {
          "output_type": "stream",
          "name": "stdout",
          "text": [
            "\n",
            "8.1 Handling missing values...\n"
          ]
        }
      ],
      "execution_count": null
    },
    {
      "metadata": {
        "id": "6bc7ef1a2b89609d"
      },
      "cell_type": "markdown",
      "source": [
        "#### 8.2 Encode categorical variables\n"
      ],
      "id": "6bc7ef1a2b89609d"
    },
    {
      "metadata": {
        "ExecuteTime": {
          "end_time": "2025-02-15T03:11:20.083660Z",
          "start_time": "2025-02-15T03:11:19.963411Z"
        },
        "colab": {
          "base_uri": "https://localhost:8080/"
        },
        "id": "a2354b1594d5608b",
        "outputId": "5d3d1add-ae34-4ef9-8453-14ee3f19c21b"
      },
      "cell_type": "code",
      "source": [
        "print(\"\\n8.2 Encoding categorical variables...\")\n",
        "label_encoders = {}\n",
        "for col in categorical_cols:\n",
        "    if col != 'project_name':\n",
        "        label_encoders[col] = LabelEncoder()\n",
        "        df[col + '_encoded'] = label_encoders[col].fit_transform(df[col])\n"
      ],
      "id": "a2354b1594d5608b",
      "outputs": [
        {
          "output_type": "stream",
          "name": "stdout",
          "text": [
            "\n",
            "8.2 Encoding categorical variables...\n"
          ]
        }
      ],
      "execution_count": null
    },
    {
      "metadata": {
        "id": "49c8952b606a3d0f"
      },
      "cell_type": "markdown",
      "source": [
        "#### 8.3 Feature scaling\n"
      ],
      "id": "49c8952b606a3d0f"
    },
    {
      "metadata": {
        "ExecuteTime": {
          "end_time": "2025-02-15T03:11:20.114032Z",
          "start_time": "2025-02-15T03:11:20.101698Z"
        },
        "colab": {
          "base_uri": "https://localhost:8080/"
        },
        "id": "aad8b8cebc27facd",
        "outputId": "713192e9-1855-4d60-fce8-aa283618acf4"
      },
      "cell_type": "code",
      "source": [
        "print(\"\\n8.3 Scaling numerical features...\")\n",
        "scaler = StandardScaler()\n",
        "numerical_features = df[numerical_cols].copy()\n",
        "scaled_features = scaler.fit_transform(numerical_features)\n",
        "scaled_df = pd.DataFrame(scaled_features, columns=numerical_cols)\n"
      ],
      "id": "aad8b8cebc27facd",
      "outputs": [
        {
          "output_type": "stream",
          "name": "stdout",
          "text": [
            "\n",
            "8.3 Scaling numerical features...\n"
          ]
        }
      ],
      "execution_count": null
    },
    {
      "metadata": {
        "id": "4adf368fe7514211"
      },
      "cell_type": "markdown",
      "source": [
        "#### 8.4 Prepare final dataset"
      ],
      "id": "4adf368fe7514211"
    },
    {
      "metadata": {
        "ExecuteTime": {
          "end_time": "2025-02-15T03:11:20.149336Z",
          "start_time": "2025-02-15T03:11:20.134582Z"
        },
        "colab": {
          "base_uri": "https://localhost:8080/"
        },
        "id": "669ccc51071cb257",
        "outputId": "82a3ca3d-9beb-49c3-cfb5-79437e31e484"
      },
      "cell_type": "code",
      "source": [
        "print(\"\\n8.4 Preparing final dataset...\")\n",
        "encoded_categorical_cols = [col + '_encoded' for col in categorical_cols if col != 'project_name']\n",
        "final_df = pd.concat([scaled_df, df[encoded_categorical_cols]], axis=1)\n",
        "\n",
        "for target in target_vars:\n",
        "    final_df[target] = df[target]\n"
      ],
      "id": "669ccc51071cb257",
      "outputs": [
        {
          "output_type": "stream",
          "name": "stdout",
          "text": [
            "\n",
            "8.4 Preparing final dataset...\n"
          ]
        }
      ],
      "execution_count": null
    },
    {
      "metadata": {
        "id": "51564feb5d1cf035"
      },
      "cell_type": "markdown",
      "source": [
        "### 9. Train-Validation-Test Split\n"
      ],
      "id": "51564feb5d1cf035"
    },
    {
      "metadata": {
        "ExecuteTime": {
          "end_time": "2025-02-15T03:11:20.193289Z",
          "start_time": "2025-02-15T03:11:20.171910Z"
        },
        "colab": {
          "base_uri": "https://localhost:8080/"
        },
        "id": "531ff63809139245",
        "outputId": "d637c50a-c530-4bfc-b648-a4d890414a7f"
      },
      "cell_type": "code",
      "source": [
        "print(\"\\n9. Preparing train-validation-test split...\")\n",
        "X = final_df.drop(target_vars, axis=1)\n",
        "y = final_df[target_vars]\n",
        "\n",
        "# Split proportions: 70% train, 15% validation, 15% test\n",
        "X_temp, X_test, y_temp, y_test = train_test_split(\n",
        "    X, y, test_size=0.15, random_state=42\n",
        ")\n",
        "\n",
        "X_train, X_val, y_train, y_val = train_test_split(\n",
        "    X_temp, y_temp, test_size=0.176, random_state=42  # 0.176 of 85% is 15% of total\n",
        ")\n",
        "\n",
        "print(\"\\nData split sizes:\")\n",
        "print(f\"Training set: {len(X_train)} samples ({len(X_train)/len(X)*100:.1f}%)\")\n",
        "print(f\"Validation set: {len(X_val)} samples ({len(X_val)/len(X)*100:.1f}%)\")\n",
        "print(f\"Test set: {len(X_test)} samples ({len(X_test)/len(X)*100:.1f}%)\")\n"
      ],
      "id": "531ff63809139245",
      "outputs": [
        {
          "output_type": "stream",
          "name": "stdout",
          "text": [
            "\n",
            "9. Preparing train-validation-test split...\n",
            "\n",
            "Data split sizes:\n",
            "Training set: 35020 samples (70.0%)\n",
            "Validation set: 7480 samples (15.0%)\n",
            "Test set: 7500 samples (15.0%)\n"
          ]
        }
      ],
      "execution_count": null
    },
    {
      "metadata": {
        "id": "ecb4e33062a9d512"
      },
      "cell_type": "markdown",
      "source": [
        "### 10. Data Augmentation"
      ],
      "id": "ecb4e33062a9d512"
    },
    {
      "metadata": {
        "jupyter": {
          "is_executing": true
        },
        "ExecuteTime": {
          "start_time": "2025-02-15T03:11:20.224797Z"
        },
        "colab": {
          "base_uri": "https://localhost:8080/"
        },
        "id": "11466ebf1e276d04",
        "outputId": "d3237505-01cb-41a3-c786-a72c5bc78192"
      },
      "cell_type": "code",
      "source": [
        "import gc\n",
        "import os\n",
        "from psutil import Process\n",
        "\n",
        "def print_memory_usage():\n",
        "    \"\"\"Print current memory usage of the process\"\"\"\n",
        "    process = Process(os.getpid())\n",
        "    print(f\"Current memory usage: {process.memory_info().rss / 1024 / 1024:.2f} MB\")\n",
        "\n",
        "def augment_data(X, y, num_augmented_samples=10000, batch_size=1000):\n",
        "    \"\"\"\n",
        "    Memory-efficient data augmentation using batches\n",
        "    \"\"\"\n",
        "    print(\"Starting data augmentation...\")\n",
        "    print_memory_usage()\n",
        "\n",
        "    X_aug_list, y_aug_list = [], []\n",
        "    samples_per_technique = num_augmented_samples // 3\n",
        "\n",
        "    # Process in batches\n",
        "    for start_idx in range(0, samples_per_technique, batch_size):\n",
        "        batch_size_current = min(batch_size, samples_per_technique - start_idx)\n",
        "\n",
        "        # 1. Gaussian noise addition (batch processing)\n",
        "        print(f\"\\rProcessing Gaussian noise batch {start_idx//batch_size + 1}/{(samples_per_technique + batch_size - 1)//batch_size}\", end=\"\")\n",
        "        noise_scale = 0.05\n",
        "\n",
        "        # Process X noise in batch\n",
        "        X_batch = X.values[:batch_size_current]\n",
        "        noise = np.random.normal(0, noise_scale, X_batch.shape)\n",
        "        X_noisy = X_batch + noise\n",
        "\n",
        "        # Process y noise in batch\n",
        "        y_batch = y.values[:batch_size_current]\n",
        "        y_noise = np.random.normal(0, noise_scale, y_batch.shape)\n",
        "        y_noisy = y_batch * (1 + y_noise)\n",
        "\n",
        "        X_aug_list.append(X_noisy)\n",
        "        y_aug_list.append(y_noisy)\n",
        "\n",
        "        # Clear memory\n",
        "        del noise, X_noisy, y_noise, y_noisy\n",
        "        gc.collect()\n",
        "\n",
        "    print(\"\\nGaussian noise augmentation completed\")\n",
        "    print_memory_usage()\n",
        "\n",
        "    # 2. Synthetic effort variations (batch processing)\n",
        "    for start_idx in range(0, samples_per_technique, batch_size):\n",
        "        batch_size_current = min(batch_size, samples_per_technique - start_idx)\n",
        "        print(f\"\\rProcessing effort variations batch {start_idx//batch_size + 1}/{(samples_per_technique + batch_size - 1)//batch_size}\", end=\"\")\n",
        "\n",
        "        X_batch = X.values[:batch_size_current]\n",
        "        y_batch = y.values[:batch_size_current]\n",
        "        effort_scale = np.random.uniform(0.9, 1.1, (batch_size_current,) + y_batch.shape[1:])\n",
        "\n",
        "        X_aug_list.append(X_batch)\n",
        "        y_aug_list.append(y_batch * effort_scale)\n",
        "\n",
        "        del effort_scale\n",
        "        gc.collect()\n",
        "\n",
        "    print(\"\\nEffort variations augmentation completed\")\n",
        "    print_memory_usage()\n",
        "\n",
        "    # 3. Feature combination (batch processing)\n",
        "    X_len = len(X)\n",
        "    for start_idx in range(0, samples_per_technique, batch_size):\n",
        "        batch_size_current = min(batch_size, samples_per_technique - start_idx)\n",
        "        print(f\"\\rProcessing feature combinations batch {start_idx//batch_size + 1}/{(samples_per_technique + batch_size - 1)//batch_size}\", end=\"\")\n",
        "\n",
        "        X_combined_batch = []\n",
        "        y_combined_batch = []\n",
        "\n",
        "        for _ in range(batch_size_current):\n",
        "            idx1, idx2 = np.random.randint(0, X_len, 2)\n",
        "            weight = np.random.uniform(0.3, 0.7)\n",
        "\n",
        "            X_combined = X.values[idx1] * weight + X.values[idx2] * (1 - weight)\n",
        "            y_combined = y.values[idx1] * weight + y.values[idx2] * (1 - weight)\n",
        "\n",
        "            X_combined_batch.append(X_combined)\n",
        "            y_combined_batch.append(y_combined)\n",
        "\n",
        "        X_aug_list.append(np.array(X_combined_batch))\n",
        "        y_aug_list.append(np.array(y_combined_batch))\n",
        "\n",
        "        del X_combined_batch, y_combined_batch\n",
        "        gc.collect()\n",
        "\n",
        "    print(\"\\nFeature combinations augmentation completed\")\n",
        "    print_memory_usage()\n",
        "\n",
        "    # Combine all augmented data\n",
        "    print(\"\\nCombining augmented data...\")\n",
        "    X_augmented = pd.DataFrame(np.vstack(X_aug_list), columns=X.columns)\n",
        "    y_augmented = pd.DataFrame(np.vstack(y_aug_list), columns=y.columns)\n",
        "\n",
        "    # Clear memory\n",
        "    del X_aug_list, y_aug_list\n",
        "    gc.collect()\n",
        "\n",
        "    print(\"Data augmentation completed\")\n",
        "    print_memory_usage()\n",
        "\n",
        "    return X_augmented.reset_index(drop=True), y_augmented.reset_index(drop=True)\n",
        "\n",
        "# Set random seed for reproducibility\n",
        "np.random.seed(42)\n",
        "\n",
        "print(\"\\nStarting data augmentation process...\")\n",
        "X_train_aug, y_train_aug = augment_data(X_train, y_train, batch_size=500)  # Smaller batch size for T4\n",
        "print(f\"Original training set size: {len(X_train)}\")\n",
        "print(f\"Augmented training set size: {len(X_train_aug)}\")"
      ],
      "id": "11466ebf1e276d04",
      "outputs": [
        {
          "output_type": "stream",
          "name": "stdout",
          "text": [
            "\n",
            "Starting data augmentation process...\n",
            "Starting data augmentation...\n",
            "Current memory usage: 1001.20 MB\n",
            "Processing Gaussian noise batch 7/7\n",
            "Gaussian noise augmentation completed\n",
            "Current memory usage: 1001.20 MB\n",
            "Processing effort variations batch 7/7\n",
            "Effort variations augmentation completed\n",
            "Current memory usage: 1017.30 MB\n",
            "Processing feature combinations batch 7/7\n",
            "Feature combinations augmentation completed\n",
            "Current memory usage: 1033.40 MB\n",
            "\n",
            "Combining augmented data...\n",
            "Data augmentation completed\n",
            "Current memory usage: 1033.40 MB\n",
            "Original training set size: 35020\n",
            "Augmented training set size: 9999\n"
          ]
        }
      ],
      "execution_count": null
    },
    {
      "metadata": {
        "id": "c9323d4547ae978e"
      },
      "cell_type": "markdown",
      "source": [
        "### 11. Save processed data\n"
      ],
      "id": "c9323d4547ae978e"
    },
    {
      "metadata": {
        "ExecuteTime": {
          "end_time": "2025-02-15T03:10:46.855638Z",
          "start_time": "2025-02-15T03:10:46.501735Z"
        },
        "colab": {
          "base_uri": "https://localhost:8080/"
        },
        "id": "31a843f503bf91d1",
        "outputId": "4f85a37a-1f97-4d50-8f3f-487c21bb3385"
      },
      "cell_type": "code",
      "source": [
        "from google.colab import userdata\n",
        "save_path =    userdata.get('save_path')\n",
        "\n",
        "# Save in batches\n",
        "print(\"Saving original processed data...\")\n",
        "for name, data in [\n",
        "    ('X_train', X_train), ('y_train', y_train),\n",
        "    ('X_val', X_val), ('y_val', y_val),\n",
        "    ('X_test', X_test), ('y_test', y_test)\n",
        "]:\n",
        "    np.save(f'{save_path}{name}.npy', data)\n",
        "print(\"Original processed data saved\")\n",
        "\n",
        "# Save augmented data in batches\n",
        "print(\"Saving augmented data...\")\n",
        "for name, data in [\n",
        "    ('X_train_aug', X_train_aug), ('y_train_aug', y_train_aug),\n",
        "    ('X_val', X_val), ('y_val', y_val),\n",
        "    ('X_test', X_test), ('y_test', y_test)\n",
        "]:\n",
        "    np.save(f'{save_path}aug_{name}.npy', data)\n",
        "print(\"Augmented data saved\")\n",
        "\n",
        "# Save data info\n",
        "with open(f'{save_path}data_info.txt', 'w') as f:\n",
        "    f.write(\"Dataset Information:\\n\")\n",
        "    f.write(f\"Original training samples: {len(X_train)}\\n\")\n",
        "    f.write(f\"Augmented training samples: {len(X_train_aug)}\\n\")\n",
        "    f.write(f\"Validation samples: {len(X_val)}\\n\")\n",
        "    f.write(f\"Test samples: {len(X_test)}\\n\")\n",
        "    f.write(\"\\nFeature columns:\\n\")\n",
        "    for col in X_train.columns:\n",
        "        f.write(f\"- {col}\\n\")\n",
        "    f.write(\"\\nTarget columns:\\n\")\n",
        "    for col in y_train.columns:\n",
        "        f.write(f\"- {col}\\n\")\n",
        "\n",
        "print(\"\\nAll data saved to:\", save_path)\n",
        "print_memory_usage()\n",
        "\n",
        "# Final cleanup\n",
        "del X_train_aug, y_train_aug\n",
        "gc.collect()\n",
        "print(\"\\nPreprocessing completed successfully!\")\n",
        "print_memory_usage()"
      ],
      "id": "31a843f503bf91d1",
      "outputs": [
        {
          "output_type": "stream",
          "name": "stdout",
          "text": [
            "Saving original processed data...\n",
            "Original processed data saved\n",
            "Saving augmented data...\n",
            "Augmented data saved\n",
            "\n",
            "All data saved to: /content/drive/MyDrive/Projects/msc_project/working_data/\n",
            "Current memory usage: 1001.53 MB\n",
            "\n",
            "Preprocessing completed successfully!\n",
            "Current memory usage: 1001.53 MB\n"
          ]
        }
      ],
      "execution_count": null
    },
    {
      "metadata": {
        "id": "927874e6aa755ffe"
      },
      "cell_type": "code",
      "outputs": [],
      "execution_count": null,
      "source": [],
      "id": "927874e6aa755ffe"
    },
    {
      "cell_type": "markdown",
      "source": [],
      "metadata": {
        "id": "lrHOi9ApBnR5"
      },
      "id": "lrHOi9ApBnR5"
    }
  ],
  "metadata": {
    "kernelspec": {
      "display_name": "Python 3",
      "name": "python3"
    },
    "language_info": {
      "codemirror_mode": {
        "name": "ipython",
        "version": 2
      },
      "file_extension": ".py",
      "mimetype": "text/x-python",
      "name": "python",
      "nbconvert_exporter": "python",
      "pygments_lexer": "ipython2",
      "version": "2.7.6"
    },
    "colab": {
      "provenance": [],
      "toc_visible": true,
      "gpuType": "T4",
      "include_colab_link": true
    },
    "accelerator": "GPU"
  },
  "nbformat": 4,
  "nbformat_minor": 5
}