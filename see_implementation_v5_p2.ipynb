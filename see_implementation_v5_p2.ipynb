{
  "nbformat": 4,
  "nbformat_minor": 0,
  "metadata": {
    "colab": {
      "provenance": [],
      "authorship_tag": "ABX9TyPLzsXQ+OIds85HC5BSMCjR",
      "include_colab_link": true
    },
    "kernelspec": {
      "name": "python3",
      "display_name": "Python 3"
    },
    "language_info": {
      "name": "python"
    }
  },
  "cells": [
    {
      "cell_type": "markdown",
      "metadata": {
        "id": "view-in-github",
        "colab_type": "text"
      },
      "source": [
        "<a href=\"https://colab.research.google.com/github/thegayankalinga/see_model_implementation/blob/main/see_implementation_v5_p2.ipynb\" target=\"_parent\"><img src=\"https://colab.research.google.com/assets/colab-badge.svg\" alt=\"Open In Colab\"/></a>"
      ]
    },
    {
      "cell_type": "markdown",
      "source": [
        "# 📌 Phase 2: Traditional Machine Learning Model Implementation\n"
      ],
      "metadata": {
        "id": "B0GYCxzSLIxr"
      }
    },
    {
      "cell_type": "markdown",
      "source": [
        "### Install & Import Required Libraries"
      ],
      "metadata": {
        "id": "Dly2KBylLcPs"
      }
    },
    {
      "cell_type": "code",
      "execution_count": 10,
      "metadata": {
        "colab": {
          "base_uri": "https://localhost:8080/"
        },
        "id": "3jiyA02aLAKP",
        "outputId": "abbc2b93-44ae-46cc-ad85-2ae1581b3d27"
      },
      "outputs": [
        {
          "output_type": "stream",
          "name": "stdout",
          "text": [
            "Drive already mounted at /content/drive; to attempt to forcibly remount, call drive.mount(\"/content/drive\", force_remount=True).\n"
          ]
        }
      ],
      "source": [
        "# Install necessary libraries (if not installed)\n",
        "!pip install pandas numpy scikit-learn xgboost matplotlib seaborn joblib --quiet\n",
        "\n",
        "# Import required libraries\n",
        "# Import required libraries\n",
        "import pandas as pd\n",
        "import numpy as np\n",
        "import os\n",
        "import joblib\n",
        "import matplotlib.pyplot as plt\n",
        "import seaborn as sns\n",
        "from sklearn.ensemble import RandomForestRegressor\n",
        "from xgboost import XGBRegressor\n",
        "from sklearn.metrics import mean_squared_error, r2_score\n",
        "from sklearn.model_selection import train_test_split, RandomizedSearchCV\n",
        "\n",
        "# Define file paths\n",
        "DATA_PATH = \"/content/drive/MyDrive/Projects/msc_project/results_data/\"\n",
        "PERFORMANCE_DATA = \"/content/drive/MyDrive/Projects/msc_project/performance_data/\"\n",
        "MODELS_PATH = \"/content/drive/MyDrive/Projects/msc_project/models/\"\n",
        "\n",
        "# Ensure Google Drive is mounted\n",
        "from google.colab import drive\n",
        "drive.mount('/content/drive')"
      ]
    },
    {
      "cell_type": "markdown",
      "source": [
        "### Load preproceessed training, validation & test data"
      ],
      "metadata": {
        "id": "L4VpXPE0Lu8E"
      }
    },
    {
      "cell_type": "code",
      "source": [
        "# Load datasets\n",
        "X_train = pd.read_csv(os.path.join(DATA_PATH, \"X_train.csv\"))\n",
        "X_val = pd.read_csv(os.path.join(DATA_PATH, \"X_val.csv\"))\n",
        "X_test = pd.read_csv(os.path.join(DATA_PATH, \"X_test.csv\"))\n",
        "y_train = pd.read_csv(os.path.join(DATA_PATH, \"y_train.csv\"))\n",
        "y_val = pd.read_csv(os.path.join(DATA_PATH, \"y_val.csv\"))\n",
        "y_test = pd.read_csv(os.path.join(DATA_PATH, \"y_test.csv\"))\n",
        "\n",
        "# Display dataset shapes\n",
        "print(f\"X_train Shape: {X_train.shape}, y_train Shape: {y_train.shape}\")\n",
        "print(f\"X_val Shape: {X_val.shape}, y_val Shape: {y_val.shape}\")\n",
        "print(f\"X_test Shape: {X_test.shape}, y_test Shape: {y_test.shape}\")\n",
        "\n",
        "# Display feature sample\n",
        "X_train.head()"
      ],
      "metadata": {
        "colab": {
          "base_uri": "https://localhost:8080/",
          "height": 304
        },
        "id": "g8-G5g8xLzsR",
        "outputId": "2cdb5df1-4f10-4f62-9f60-a85510642bc4"
      },
      "execution_count": 2,
      "outputs": [
        {
          "output_type": "stream",
          "name": "stdout",
          "text": [
            "X_train Shape: (35000, 41), y_train Shape: (35000, 4)\n",
            "X_val Shape: (7500, 41), y_val Shape: (7500, 4)\n",
            "X_test Shape: (7500, 41), y_test Shape: (7500, 4)\n"
          ]
        },
        {
          "output_type": "execute_result",
          "data": {
            "text/plain": [
              "   region  dev_environment  sit_environment  uat_environment  \\\n",
              "0       2                0                0                0   \n",
              "1       2                0                1                0   \n",
              "2       0                0                1                0   \n",
              "3       2                0                1                0   \n",
              "4       2                0                1                0   \n",
              "\n",
              "   staging_environment  training_environment  production_environment  \\\n",
              "0                    0                     0                       0   \n",
              "1                    0                     0                       0   \n",
              "2                    0                     0                       0   \n",
              "3                    0                     0                       0   \n",
              "4                    0                     0                       0   \n",
              "\n",
              "   dr_environment  compliance_pci_sff  compliance_country_specific  ...  \\\n",
              "0               0                   0                            1  ...   \n",
              "1               0                   0                            0  ...   \n",
              "2               1                   0                            0  ...   \n",
              "3               1                   0                            0  ...   \n",
              "4               0                   0                            1  ...   \n",
              "\n",
              "   tps_required  warranty_months  no_of_functional_modules  \\\n",
              "0     -1.790662        -0.655402                  1.080574   \n",
              "1      0.017691        -0.655402                 -0.686674   \n",
              "2      1.309371        -0.655402                 -0.486608   \n",
              "3      0.792699        -0.655402                 -1.486937   \n",
              "4     -1.015654         1.525781                 -1.220182   \n",
              "\n",
              "   no_of_none_functional_modules  uat_cycles  test_coverage  \\\n",
              "0                       1.012685   -0.444410       1.348596   \n",
              "1                      -1.003552   -1.338956       1.348596   \n",
              "2                       0.157312   -0.444410       0.452424   \n",
              "3                      -0.087081   -1.338956       0.452424   \n",
              "4                      -1.858925   -0.444410       1.348596   \n",
              "\n",
              "   rest_integration_points  soap_integration_points  \\\n",
              "0                -0.833149                 1.173808   \n",
              "1                -1.031342                -0.690523   \n",
              "2                -0.337667                -0.379802   \n",
              "3                -0.238571                 0.863086   \n",
              "4                 1.446068                 0.863086   \n",
              "\n",
              "   iso8583_integration_points  sdk_integration_points  \n",
              "0                   -0.621911               -0.620713  \n",
              "1                    1.019882               -0.620713  \n",
              "2                   -0.621911                1.021125  \n",
              "3                   -0.621911               -0.620713  \n",
              "4                   -0.621911                1.021125  \n",
              "\n",
              "[5 rows x 41 columns]"
            ],
            "text/html": [
              "\n",
              "  <div id=\"df-77aa8492-cf4f-41fc-bd91-d8d9f08f2832\" class=\"colab-df-container\">\n",
              "    <div>\n",
              "<style scoped>\n",
              "    .dataframe tbody tr th:only-of-type {\n",
              "        vertical-align: middle;\n",
              "    }\n",
              "\n",
              "    .dataframe tbody tr th {\n",
              "        vertical-align: top;\n",
              "    }\n",
              "\n",
              "    .dataframe thead th {\n",
              "        text-align: right;\n",
              "    }\n",
              "</style>\n",
              "<table border=\"1\" class=\"dataframe\">\n",
              "  <thead>\n",
              "    <tr style=\"text-align: right;\">\n",
              "      <th></th>\n",
              "      <th>region</th>\n",
              "      <th>dev_environment</th>\n",
              "      <th>sit_environment</th>\n",
              "      <th>uat_environment</th>\n",
              "      <th>staging_environment</th>\n",
              "      <th>training_environment</th>\n",
              "      <th>production_environment</th>\n",
              "      <th>dr_environment</th>\n",
              "      <th>compliance_pci_sff</th>\n",
              "      <th>compliance_country_specific</th>\n",
              "      <th>...</th>\n",
              "      <th>tps_required</th>\n",
              "      <th>warranty_months</th>\n",
              "      <th>no_of_functional_modules</th>\n",
              "      <th>no_of_none_functional_modules</th>\n",
              "      <th>uat_cycles</th>\n",
              "      <th>test_coverage</th>\n",
              "      <th>rest_integration_points</th>\n",
              "      <th>soap_integration_points</th>\n",
              "      <th>iso8583_integration_points</th>\n",
              "      <th>sdk_integration_points</th>\n",
              "    </tr>\n",
              "  </thead>\n",
              "  <tbody>\n",
              "    <tr>\n",
              "      <th>0</th>\n",
              "      <td>2</td>\n",
              "      <td>0</td>\n",
              "      <td>0</td>\n",
              "      <td>0</td>\n",
              "      <td>0</td>\n",
              "      <td>0</td>\n",
              "      <td>0</td>\n",
              "      <td>0</td>\n",
              "      <td>0</td>\n",
              "      <td>1</td>\n",
              "      <td>...</td>\n",
              "      <td>-1.790662</td>\n",
              "      <td>-0.655402</td>\n",
              "      <td>1.080574</td>\n",
              "      <td>1.012685</td>\n",
              "      <td>-0.444410</td>\n",
              "      <td>1.348596</td>\n",
              "      <td>-0.833149</td>\n",
              "      <td>1.173808</td>\n",
              "      <td>-0.621911</td>\n",
              "      <td>-0.620713</td>\n",
              "    </tr>\n",
              "    <tr>\n",
              "      <th>1</th>\n",
              "      <td>2</td>\n",
              "      <td>0</td>\n",
              "      <td>1</td>\n",
              "      <td>0</td>\n",
              "      <td>0</td>\n",
              "      <td>0</td>\n",
              "      <td>0</td>\n",
              "      <td>0</td>\n",
              "      <td>0</td>\n",
              "      <td>0</td>\n",
              "      <td>...</td>\n",
              "      <td>0.017691</td>\n",
              "      <td>-0.655402</td>\n",
              "      <td>-0.686674</td>\n",
              "      <td>-1.003552</td>\n",
              "      <td>-1.338956</td>\n",
              "      <td>1.348596</td>\n",
              "      <td>-1.031342</td>\n",
              "      <td>-0.690523</td>\n",
              "      <td>1.019882</td>\n",
              "      <td>-0.620713</td>\n",
              "    </tr>\n",
              "    <tr>\n",
              "      <th>2</th>\n",
              "      <td>0</td>\n",
              "      <td>0</td>\n",
              "      <td>1</td>\n",
              "      <td>0</td>\n",
              "      <td>0</td>\n",
              "      <td>0</td>\n",
              "      <td>0</td>\n",
              "      <td>1</td>\n",
              "      <td>0</td>\n",
              "      <td>0</td>\n",
              "      <td>...</td>\n",
              "      <td>1.309371</td>\n",
              "      <td>-0.655402</td>\n",
              "      <td>-0.486608</td>\n",
              "      <td>0.157312</td>\n",
              "      <td>-0.444410</td>\n",
              "      <td>0.452424</td>\n",
              "      <td>-0.337667</td>\n",
              "      <td>-0.379802</td>\n",
              "      <td>-0.621911</td>\n",
              "      <td>1.021125</td>\n",
              "    </tr>\n",
              "    <tr>\n",
              "      <th>3</th>\n",
              "      <td>2</td>\n",
              "      <td>0</td>\n",
              "      <td>1</td>\n",
              "      <td>0</td>\n",
              "      <td>0</td>\n",
              "      <td>0</td>\n",
              "      <td>0</td>\n",
              "      <td>1</td>\n",
              "      <td>0</td>\n",
              "      <td>0</td>\n",
              "      <td>...</td>\n",
              "      <td>0.792699</td>\n",
              "      <td>-0.655402</td>\n",
              "      <td>-1.486937</td>\n",
              "      <td>-0.087081</td>\n",
              "      <td>-1.338956</td>\n",
              "      <td>0.452424</td>\n",
              "      <td>-0.238571</td>\n",
              "      <td>0.863086</td>\n",
              "      <td>-0.621911</td>\n",
              "      <td>-0.620713</td>\n",
              "    </tr>\n",
              "    <tr>\n",
              "      <th>4</th>\n",
              "      <td>2</td>\n",
              "      <td>0</td>\n",
              "      <td>1</td>\n",
              "      <td>0</td>\n",
              "      <td>0</td>\n",
              "      <td>0</td>\n",
              "      <td>0</td>\n",
              "      <td>0</td>\n",
              "      <td>0</td>\n",
              "      <td>1</td>\n",
              "      <td>...</td>\n",
              "      <td>-1.015654</td>\n",
              "      <td>1.525781</td>\n",
              "      <td>-1.220182</td>\n",
              "      <td>-1.858925</td>\n",
              "      <td>-0.444410</td>\n",
              "      <td>1.348596</td>\n",
              "      <td>1.446068</td>\n",
              "      <td>0.863086</td>\n",
              "      <td>-0.621911</td>\n",
              "      <td>1.021125</td>\n",
              "    </tr>\n",
              "  </tbody>\n",
              "</table>\n",
              "<p>5 rows × 41 columns</p>\n",
              "</div>\n",
              "    <div class=\"colab-df-buttons\">\n",
              "\n",
              "  <div class=\"colab-df-container\">\n",
              "    <button class=\"colab-df-convert\" onclick=\"convertToInteractive('df-77aa8492-cf4f-41fc-bd91-d8d9f08f2832')\"\n",
              "            title=\"Convert this dataframe to an interactive table.\"\n",
              "            style=\"display:none;\">\n",
              "\n",
              "  <svg xmlns=\"http://www.w3.org/2000/svg\" height=\"24px\" viewBox=\"0 -960 960 960\">\n",
              "    <path d=\"M120-120v-720h720v720H120Zm60-500h600v-160H180v160Zm220 220h160v-160H400v160Zm0 220h160v-160H400v160ZM180-400h160v-160H180v160Zm440 0h160v-160H620v160ZM180-180h160v-160H180v160Zm440 0h160v-160H620v160Z\"/>\n",
              "  </svg>\n",
              "    </button>\n",
              "\n",
              "  <style>\n",
              "    .colab-df-container {\n",
              "      display:flex;\n",
              "      gap: 12px;\n",
              "    }\n",
              "\n",
              "    .colab-df-convert {\n",
              "      background-color: #E8F0FE;\n",
              "      border: none;\n",
              "      border-radius: 50%;\n",
              "      cursor: pointer;\n",
              "      display: none;\n",
              "      fill: #1967D2;\n",
              "      height: 32px;\n",
              "      padding: 0 0 0 0;\n",
              "      width: 32px;\n",
              "    }\n",
              "\n",
              "    .colab-df-convert:hover {\n",
              "      background-color: #E2EBFA;\n",
              "      box-shadow: 0px 1px 2px rgba(60, 64, 67, 0.3), 0px 1px 3px 1px rgba(60, 64, 67, 0.15);\n",
              "      fill: #174EA6;\n",
              "    }\n",
              "\n",
              "    .colab-df-buttons div {\n",
              "      margin-bottom: 4px;\n",
              "    }\n",
              "\n",
              "    [theme=dark] .colab-df-convert {\n",
              "      background-color: #3B4455;\n",
              "      fill: #D2E3FC;\n",
              "    }\n",
              "\n",
              "    [theme=dark] .colab-df-convert:hover {\n",
              "      background-color: #434B5C;\n",
              "      box-shadow: 0px 1px 3px 1px rgba(0, 0, 0, 0.15);\n",
              "      filter: drop-shadow(0px 1px 2px rgba(0, 0, 0, 0.3));\n",
              "      fill: #FFFFFF;\n",
              "    }\n",
              "  </style>\n",
              "\n",
              "    <script>\n",
              "      const buttonEl =\n",
              "        document.querySelector('#df-77aa8492-cf4f-41fc-bd91-d8d9f08f2832 button.colab-df-convert');\n",
              "      buttonEl.style.display =\n",
              "        google.colab.kernel.accessAllowed ? 'block' : 'none';\n",
              "\n",
              "      async function convertToInteractive(key) {\n",
              "        const element = document.querySelector('#df-77aa8492-cf4f-41fc-bd91-d8d9f08f2832');\n",
              "        const dataTable =\n",
              "          await google.colab.kernel.invokeFunction('convertToInteractive',\n",
              "                                                    [key], {});\n",
              "        if (!dataTable) return;\n",
              "\n",
              "        const docLinkHtml = 'Like what you see? Visit the ' +\n",
              "          '<a target=\"_blank\" href=https://colab.research.google.com/notebooks/data_table.ipynb>data table notebook</a>'\n",
              "          + ' to learn more about interactive tables.';\n",
              "        element.innerHTML = '';\n",
              "        dataTable['output_type'] = 'display_data';\n",
              "        await google.colab.output.renderOutput(dataTable, element);\n",
              "        const docLink = document.createElement('div');\n",
              "        docLink.innerHTML = docLinkHtml;\n",
              "        element.appendChild(docLink);\n",
              "      }\n",
              "    </script>\n",
              "  </div>\n",
              "\n",
              "\n",
              "<div id=\"df-d46239df-def6-40e8-97cd-0a05601f7475\">\n",
              "  <button class=\"colab-df-quickchart\" onclick=\"quickchart('df-d46239df-def6-40e8-97cd-0a05601f7475')\"\n",
              "            title=\"Suggest charts\"\n",
              "            style=\"display:none;\">\n",
              "\n",
              "<svg xmlns=\"http://www.w3.org/2000/svg\" height=\"24px\"viewBox=\"0 0 24 24\"\n",
              "     width=\"24px\">\n",
              "    <g>\n",
              "        <path d=\"M19 3H5c-1.1 0-2 .9-2 2v14c0 1.1.9 2 2 2h14c1.1 0 2-.9 2-2V5c0-1.1-.9-2-2-2zM9 17H7v-7h2v7zm4 0h-2V7h2v10zm4 0h-2v-4h2v4z\"/>\n",
              "    </g>\n",
              "</svg>\n",
              "  </button>\n",
              "\n",
              "<style>\n",
              "  .colab-df-quickchart {\n",
              "      --bg-color: #E8F0FE;\n",
              "      --fill-color: #1967D2;\n",
              "      --hover-bg-color: #E2EBFA;\n",
              "      --hover-fill-color: #174EA6;\n",
              "      --disabled-fill-color: #AAA;\n",
              "      --disabled-bg-color: #DDD;\n",
              "  }\n",
              "\n",
              "  [theme=dark] .colab-df-quickchart {\n",
              "      --bg-color: #3B4455;\n",
              "      --fill-color: #D2E3FC;\n",
              "      --hover-bg-color: #434B5C;\n",
              "      --hover-fill-color: #FFFFFF;\n",
              "      --disabled-bg-color: #3B4455;\n",
              "      --disabled-fill-color: #666;\n",
              "  }\n",
              "\n",
              "  .colab-df-quickchart {\n",
              "    background-color: var(--bg-color);\n",
              "    border: none;\n",
              "    border-radius: 50%;\n",
              "    cursor: pointer;\n",
              "    display: none;\n",
              "    fill: var(--fill-color);\n",
              "    height: 32px;\n",
              "    padding: 0;\n",
              "    width: 32px;\n",
              "  }\n",
              "\n",
              "  .colab-df-quickchart:hover {\n",
              "    background-color: var(--hover-bg-color);\n",
              "    box-shadow: 0 1px 2px rgba(60, 64, 67, 0.3), 0 1px 3px 1px rgba(60, 64, 67, 0.15);\n",
              "    fill: var(--button-hover-fill-color);\n",
              "  }\n",
              "\n",
              "  .colab-df-quickchart-complete:disabled,\n",
              "  .colab-df-quickchart-complete:disabled:hover {\n",
              "    background-color: var(--disabled-bg-color);\n",
              "    fill: var(--disabled-fill-color);\n",
              "    box-shadow: none;\n",
              "  }\n",
              "\n",
              "  .colab-df-spinner {\n",
              "    border: 2px solid var(--fill-color);\n",
              "    border-color: transparent;\n",
              "    border-bottom-color: var(--fill-color);\n",
              "    animation:\n",
              "      spin 1s steps(1) infinite;\n",
              "  }\n",
              "\n",
              "  @keyframes spin {\n",
              "    0% {\n",
              "      border-color: transparent;\n",
              "      border-bottom-color: var(--fill-color);\n",
              "      border-left-color: var(--fill-color);\n",
              "    }\n",
              "    20% {\n",
              "      border-color: transparent;\n",
              "      border-left-color: var(--fill-color);\n",
              "      border-top-color: var(--fill-color);\n",
              "    }\n",
              "    30% {\n",
              "      border-color: transparent;\n",
              "      border-left-color: var(--fill-color);\n",
              "      border-top-color: var(--fill-color);\n",
              "      border-right-color: var(--fill-color);\n",
              "    }\n",
              "    40% {\n",
              "      border-color: transparent;\n",
              "      border-right-color: var(--fill-color);\n",
              "      border-top-color: var(--fill-color);\n",
              "    }\n",
              "    60% {\n",
              "      border-color: transparent;\n",
              "      border-right-color: var(--fill-color);\n",
              "    }\n",
              "    80% {\n",
              "      border-color: transparent;\n",
              "      border-right-color: var(--fill-color);\n",
              "      border-bottom-color: var(--fill-color);\n",
              "    }\n",
              "    90% {\n",
              "      border-color: transparent;\n",
              "      border-bottom-color: var(--fill-color);\n",
              "    }\n",
              "  }\n",
              "</style>\n",
              "\n",
              "  <script>\n",
              "    async function quickchart(key) {\n",
              "      const quickchartButtonEl =\n",
              "        document.querySelector('#' + key + ' button');\n",
              "      quickchartButtonEl.disabled = true;  // To prevent multiple clicks.\n",
              "      quickchartButtonEl.classList.add('colab-df-spinner');\n",
              "      try {\n",
              "        const charts = await google.colab.kernel.invokeFunction(\n",
              "            'suggestCharts', [key], {});\n",
              "      } catch (error) {\n",
              "        console.error('Error during call to suggestCharts:', error);\n",
              "      }\n",
              "      quickchartButtonEl.classList.remove('colab-df-spinner');\n",
              "      quickchartButtonEl.classList.add('colab-df-quickchart-complete');\n",
              "    }\n",
              "    (() => {\n",
              "      let quickchartButtonEl =\n",
              "        document.querySelector('#df-d46239df-def6-40e8-97cd-0a05601f7475 button');\n",
              "      quickchartButtonEl.style.display =\n",
              "        google.colab.kernel.accessAllowed ? 'block' : 'none';\n",
              "    })();\n",
              "  </script>\n",
              "</div>\n",
              "\n",
              "    </div>\n",
              "  </div>\n"
            ],
            "application/vnd.google.colaboratory.intrinsic+json": {
              "type": "dataframe",
              "variable_name": "X_train"
            }
          },
          "metadata": {},
          "execution_count": 2
        }
      ]
    },
    {
      "cell_type": "markdown",
      "source": [
        "### Implement Baseline Models (RF & XGB)"
      ],
      "metadata": {
        "id": "vQiTjy_mMD4l"
      }
    },
    {
      "cell_type": "markdown",
      "source": [
        "#### Random Forest (RF) Baseline Model"
      ],
      "metadata": {
        "id": "WbQvGjjiMJ63"
      }
    },
    {
      "cell_type": "code",
      "source": [
        "# Initialize Random Forest for multi-output regression\n",
        "rf_model = RandomForestRegressor(n_estimators=100, random_state=42, n_jobs=-1)\n",
        "\n",
        "# Train the model\n",
        "rf_model.fit(X_train, y_train)\n",
        "\n",
        "# Make predictions\n",
        "y_pred_rf = rf_model.predict(X_val)\n",
        "\n",
        "# Evaluate the model\n",
        "def evaluate_model(y_true, y_pred, model_name):\n",
        "    mse = mean_squared_error(y_true, y_pred)\n",
        "    rmse = np.sqrt(mse)\n",
        "    r2 = r2_score(y_true, y_pred)\n",
        "    mape = np.mean(np.abs((y_true - y_pred) / y_true)) * 100  # Avoid division by zero\n",
        "    mmre = np.mean(np.abs((y_true - y_pred) / (y_true + 1e-10)))  # Add epsilon to avoid zero division\n",
        "\n",
        "    print(f\"\\n📌 {model_name} Model Evaluation:\")\n",
        "    print(f\"MSE: {mse:.4f}\")\n",
        "    print(f\"RMSE: {rmse:.4f}\")\n",
        "    print(f\"R-Squared: {r2:.4f}\")\n",
        "    print(f\"MAPE: {mape:.2f}%\")\n",
        "    print(f\"MMRE: {mmre:.4f}\")\n",
        "\n",
        "# Evaluate Random Forest\n",
        "evaluate_model(y_val, y_pred_rf, \"Random Forest\")"
      ],
      "metadata": {
        "colab": {
          "base_uri": "https://localhost:8080/"
        },
        "id": "GCcYV-hrMH7T",
        "outputId": "85462110-7f59-48fb-e268-a6f3483fffc5"
      },
      "execution_count": 3,
      "outputs": [
        {
          "output_type": "stream",
          "name": "stdout",
          "text": [
            "\n",
            "📌 Random Forest Model Evaluation:\n",
            "MSE: 0.1376\n",
            "RMSE: 0.3710\n",
            "R-Squared: 0.8632\n",
            "MAPE: 1026.43%\n",
            "MMRE: 10.2643\n"
          ]
        }
      ]
    },
    {
      "cell_type": "markdown",
      "source": [
        "#### XGBoost Baseline Model"
      ],
      "metadata": {
        "id": "H1bk5ljfMV9T"
      }
    },
    {
      "cell_type": "code",
      "source": [
        "# Initialize XGBoost for multi-output regression\n",
        "xgb_model = XGBRegressor(objective=\"reg:squarederror\", n_estimators=100, random_state=42)\n",
        "\n",
        "# Train the model\n",
        "xgb_model.fit(X_train, y_train)\n",
        "\n",
        "# Make predictions\n",
        "y_pred_xgb = xgb_model.predict(X_val)\n",
        "\n",
        "# Evaluate XGBoost\n",
        "evaluate_model(y_val, y_pred_xgb, \"XGBoost\")"
      ],
      "metadata": {
        "colab": {
          "base_uri": "https://localhost:8080/"
        },
        "id": "ignjC8W9MZuU",
        "outputId": "0768d0ed-bf5d-43fb-858b-a48a7b263080"
      },
      "execution_count": 4,
      "outputs": [
        {
          "output_type": "stream",
          "name": "stdout",
          "text": [
            "\n",
            "📌 XGBoost Model Evaluation:\n",
            "MSE: 0.0179\n",
            "RMSE: 0.1336\n",
            "R-Squared: 0.9822\n",
            "MAPE: 453.01%\n",
            "MMRE: 4.5301\n"
          ]
        }
      ]
    },
    {
      "cell_type": "markdown",
      "source": [
        "### Hyper Parameter Tuning"
      ],
      "metadata": {
        "id": "ZYgogyJcMn3h"
      }
    },
    {
      "cell_type": "markdown",
      "source": [
        "#### Tune Random Forest (RF)"
      ],
      "metadata": {
        "id": "uolGV6YsMq1k"
      }
    },
    {
      "cell_type": "code",
      "source": [
        "# Define hyperparameter grid\n",
        "\n",
        "#Due to time constraints of the Colab resources not using the following\n",
        "# rf_params = {\n",
        "#     'n_estimators': [100, 200, 300],\n",
        "#     'max_depth': [10, 20, 30, None],\n",
        "#     'min_samples_split': [2, 5, 10],\n",
        "#     'min_samples_leaf': [1, 2, 4]\n",
        "# }\n",
        "\n",
        "\n",
        "rf_params = {\n",
        "    'n_estimators': [100, 200],\n",
        "    'max_depth': [10, 20, None],\n",
        "    'min_samples_split': [2, 5],\n",
        "    'min_samples_leaf': [1, 2,]\n",
        "}\n",
        "\n",
        "# Perform Randomized Search\n",
        "rf_search = RandomizedSearchCV(RandomForestRegressor(random_state=42, n_jobs=-1),\n",
        "                               param_distributions=rf_params,\n",
        "                               n_iter=10, cv=3, verbose=2, n_jobs=-1)\n",
        "\n",
        "rf_search.fit(X_train, y_train)\n",
        "\n",
        "# Best parameters\n",
        "print(\"\\n📌 Best RF Hyperparameters:\", rf_search.best_params_)\n",
        "\n",
        "# Train with best parameters\n",
        "best_rf = rf_search.best_estimator_\n",
        "y_pred_rf_best = best_rf.predict(X_val)\n",
        "\n",
        "# Evaluate tuned RF\n",
        "evaluate_model(y_val, y_pred_rf_best, \"Optimized Random Forest\")"
      ],
      "metadata": {
        "colab": {
          "base_uri": "https://localhost:8080/"
        },
        "id": "DytqCC68MtWz",
        "outputId": "c6e7e63e-b9c2-41f7-b3d5-fca054ab2718"
      },
      "execution_count": 5,
      "outputs": [
        {
          "output_type": "stream",
          "name": "stdout",
          "text": [
            "Fitting 3 folds for each of 10 candidates, totalling 30 fits\n",
            "\n",
            "📌 Best RF Hyperparameters: {'n_estimators': 200, 'min_samples_split': 2, 'min_samples_leaf': 1, 'max_depth': 20}\n",
            "\n",
            "📌 Optimized Random Forest Model Evaluation:\n",
            "MSE: 0.1361\n",
            "RMSE: 0.3689\n",
            "R-Squared: 0.8647\n",
            "MAPE: 992.53%\n",
            "MMRE: 9.9252\n"
          ]
        }
      ]
    },
    {
      "cell_type": "markdown",
      "source": [
        "#### Tune XGBoost"
      ],
      "metadata": {
        "id": "1c4RwvE4NLPV"
      }
    },
    {
      "cell_type": "code",
      "source": [
        "# Define hyperparameter grid\n",
        "\n",
        "# xgb_params = {\n",
        "#     'n_estimators': [100, 200, 300],\n",
        "#     'max_depth': [3, 5, 7],\n",
        "#     'learning_rate': [0.01, 0.05, 0.1],\n",
        "#     'subsample': [0.8, 0.9, 1.0],\n",
        "#     'colsample_bytree': [0.8, 0.9, 1.0]\n",
        "# }\n",
        "\n",
        "xgb_params = {\n",
        "    'n_estimators': [100, 200],\n",
        "    'max_depth': [3, 5],\n",
        "    'learning_rate': [0.01, 0.05, ],\n",
        "    'subsample': [0.8, 0.9],\n",
        "    'colsample_bytree': [0.8, 0.9]\n",
        "}\n",
        "\n",
        "# Perform Randomized Search\n",
        "xgb_search = RandomizedSearchCV(XGBRegressor(objective=\"reg:squarederror\", random_state=42),\n",
        "                                param_distributions=xgb_params,\n",
        "                                n_iter=10, cv=3, verbose=2, n_jobs=-1)\n",
        "\n",
        "xgb_search.fit(X_train, y_train)\n",
        "\n",
        "# Best parameters\n",
        "print(\"\\n📌 Best XGBoost Hyperparameters:\", xgb_search.best_params_)\n",
        "\n",
        "# Train with best parameters\n",
        "best_xgb = xgb_search.best_estimator_\n",
        "y_pred_xgb_best = best_xgb.predict(X_val)\n",
        "\n",
        "# Evaluate tuned XGBoost\n",
        "evaluate_model(y_val, y_pred_xgb_best, \"Optimized XGBoost\")"
      ],
      "metadata": {
        "colab": {
          "base_uri": "https://localhost:8080/"
        },
        "id": "lDBPnS7kNOqZ",
        "outputId": "74eef9b1-4401-4a8c-c6f9-aafe974f574f"
      },
      "execution_count": 7,
      "outputs": [
        {
          "output_type": "stream",
          "name": "stdout",
          "text": [
            "Fitting 3 folds for each of 10 candidates, totalling 30 fits\n",
            "\n",
            "📌 Best XGBoost Hyperparameters: {'subsample': 0.8, 'n_estimators': 200, 'max_depth': 5, 'learning_rate': 0.05, 'colsample_bytree': 0.8}\n",
            "\n",
            "📌 Optimized XGBoost Model Evaluation:\n",
            "MSE: 0.0260\n",
            "RMSE: 0.1612\n",
            "R-Squared: 0.9741\n",
            "MAPE: 471.86%\n",
            "MMRE: 4.7186\n"
          ]
        }
      ]
    },
    {
      "cell_type": "markdown",
      "source": [
        "### Save the Best Model"
      ],
      "metadata": {
        "id": "jm6FbTV5NZzV"
      }
    },
    {
      "cell_type": "code",
      "source": [
        "# Save Model Performance Data to a Single CSV File\n",
        "performance_data = {\n",
        "    \"Model\": [\"Baseline Random Forest\", \"Baseline XGBoost\", \"Optimized Random Forest\", \"Optimized XGBoost\"],\n",
        "    \"MSE\": [mse_rf, mse_xgb, mse_rf_best, mse_xgb_best],\n",
        "    \"RMSE\": [rmse_rf, rmse_xgb, rmse_rf_best, rmse_xgb_best],\n",
        "    \"R-Squared\": [r2_rf, r2_xgb, r2_rf_best, r2_xgb_best],\n",
        "    \"MAPE (%)\": [mape_rf, mape_xgb, mape_rf_best, mape_xgb_best],\n",
        "    \"MMRE\": [mmre_rf, mmre_xgb, mmre_rf_best, mmre_xgb_best]\n",
        "}\n",
        "\n",
        "performance_df = pd.DataFrame(performance_data)\n",
        "performance_csv_path = os.path.join(PERFORMANCE_DATA, \"ml_model_performance_comparison.csv\")\n",
        "performance_df.to_csv(performance_csv_path, index=False)\n",
        "\n",
        "print(f\"\\n✅ Model performance data saved to {performance_csv_path}\")\n",
        "\n",
        "# Save Best Models\n",
        "joblib.dump(best_rf, os.path.join(MODELS_PATH, \"best_random_forest.pkl\"))\n",
        "joblib.dump(best_xgb, os.path.join(MODELS_PATH, \"best_xgboost.pkl\"))\n",
        "\n",
        "print(\"\\n✅ Best models saved successfully in MODELS_PATH.\")"
      ],
      "metadata": {
        "colab": {
          "base_uri": "https://localhost:8080/"
        },
        "id": "dBarZIpFNdBp",
        "outputId": "450fc430-a5a0-4814-d574-5e42027d65a5"
      },
      "execution_count": 11,
      "outputs": [
        {
          "output_type": "stream",
          "name": "stdout",
          "text": [
            "\n",
            "✅ Model performance data saved to /content/drive/MyDrive/Projects/msc_project/performance_data/model_performance_comparison.csv\n",
            "\n",
            "✅ Best models saved successfully in MODELS_PATH.\n"
          ]
        }
      ]
    }
  ]
}